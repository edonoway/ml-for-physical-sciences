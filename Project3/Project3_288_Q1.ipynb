{
 "cells": [
  {
   "cell_type": "markdown",
   "metadata": {
    "id": "YKj9T2-S4L9C"
   },
   "source": [
    "## Project 3\n",
    "\n",
    "## <em>Machine Learning Clasification, Inference, and more on Sampling</em>\n",
    "<br>\n",
    "This notebook is arranged in cells. Texts are usually written in the markdown cells, and here you can use html tags (make it bold, italic, colored, etc). You can double click on this cell to see the formatting.<br>\n",
    "<br>\n",
    "The ellipsis (...) are provided where you are expected to write your solution but feel free to change the template (not over much) in case this style is not to your taste. <br>\n",
    "<br>\n",
    "<em>Hit \"Shift-Enter\" on a code cell to evaluate it.  Double click a Markdown cell to edit. </em><br>"
   ]
  },
  {
   "cell_type": "markdown",
   "metadata": {
    "id": "P7ZvWCjQ4L9J"
   },
   "source": [
    "## **Project 3 is composed of four questions in individual notebooks. This is done so that you can import packages for each question separately. Please combine the PDFs of the four notebooks with a PDF combiner (something like [this](https://combinepdf.com/) ) before submitting to bcourses.**\n",
    "\n",
    "## **NOTE1: Both Physics 188 and 288 will have the same project for Project 3.**\n",
    "\n",
    "## **NOTE2: Due to grade submission deadlines set by the university, Project 3 is STRICTLY due 11:59pm, Friday 12/15.**\n"
   ]
  },
  {
   "cell_type": "markdown",
   "metadata": {
    "id": "8gZnlOnD4L9K"
   },
   "source": [
    "***\n",
    "### Mounting Google Drive locally\n",
    "Mount your Google Drive on your runtime using an authorization code.\n",
    "\n",
    "Note: When using the 'Mount Drive' button in the file browser, no authentication codes are necessary for notebooks that have only been edited by the current user."
   ]
  },
  {
   "cell_type": "code",
   "execution_count": null,
   "metadata": {
    "colab": {
     "base_uri": "https://localhost:8080/"
    },
    "collapsed": true,
    "executionInfo": {
     "elapsed": 1158,
     "status": "ok",
     "timestamp": 1701724652321,
     "user": {
      "displayName": "Elizabeth Donoway",
      "userId": "08360168193001379433"
     },
     "user_tz": 480
    },
    "id": "qQP4L2Sm4L9L",
    "outputId": "9eb9018a-d170-4728-b0f0-fb46975e77f5"
   },
   "outputs": [
    {
     "name": "stdout",
     "output_type": "stream",
     "text": [
      "Drive already mounted at /content/drive; to attempt to forcibly remount, call drive.mount(\"/content/drive\", force_remount=True).\n"
     ]
    }
   ],
   "source": [
    "from google.colab import drive\n",
    "drive.mount('/content/drive')"
   ]
  },
  {
   "cell_type": "markdown",
   "metadata": {
    "id": "mxVfBM2p4L9N"
   },
   "source": [
    "### Imports"
   ]
  },
  {
   "cell_type": "code",
   "execution_count": null,
   "metadata": {
    "collapsed": true,
    "id": "rj03nMYw4L9O"
   },
   "outputs": [],
   "source": [
    "import numpy as np\n",
    "from scipy.integrate import quad\n",
    "#For plotting\n",
    "import matplotlib.pyplot as plt\n",
    "%matplotlib inline\n",
    "import warnings\n",
    "warnings.filterwarnings('ignore')"
   ]
  },
  {
   "cell_type": "markdown",
   "metadata": {
    "collapsed": true,
    "id": "Wa9dCti34L9O"
   },
   "source": [
    "***"
   ]
  },
  {
   "cell_type": "markdown",
   "metadata": {
    "id": "Pn-Fvt5b4L9P"
   },
   "source": [
    "## Problem 1 - Using Keras - MNIST\n",
    "\n",
    "The goal of this notebook is to introduce deep neural networks (DNNs) and convolutional neural networks (CNNs) using the high-level Keras package and to become familiar with how to choose its architecture, cost function, and optimizer in Keras. We will also learn how to train neural networks.\n",
    "\n",
    "We will once again work with the MNIST dataset of hand written digits introduced in earlier HW. The goal is to find a statistical model which recognizes and distinguishes between the ten handwritten digits (0-9).\n",
    "\n",
    "The MNIST dataset comprises handwritten digits, each of which comes in a square image, divided into a $28\\times 28$ pixel grid. Every pixel can take on $256$ nuances of the gray color, interpolating between white and black, and hence each data point assumes any value in the set $\\{0,1,\\dots,255\\}$. Since there are $10$ categories in the problem, corresponding to the ten digits, this problem represents a generic classification task.\n",
    "\n",
    "In this Notebook, we show how to use the Keras python package to tackle the MNIST problem with the help of deep neural networks."
   ]
  },
  {
   "cell_type": "markdown",
   "metadata": {
    "id": "jt7DNBnA4L9Q"
   },
   "source": [
    "## Creating DNNs with Keras\n",
    "\n",
    "Constructing a Deep Neural Network to solve ML problems is a multiple-stage process. Quite generally, one can identify the key steps as follows:\n",
    "\n",
    "* ***step 1:*** Load and process the data\n",
    "* ***step 2:*** Define the model and its architecture\n",
    "* ***step 3:*** Choose the optimizer and the cost function\n",
    "* ***step 4:*** Train the model\n",
    "* ***step 5:*** Evaluate the model performance on the *unseen* test data\n",
    "* ***step 6:*** Modify the hyperparameters to optimize performance for the specific data set\n",
    "\n",
    "We would like to emphasize that, while it is always possible to view steps 1-5 as independent of the particular task we are trying to solve, it is only when they are put together in ***step 6*** that the real gain of using Deep Learning is revealed, compared to less sophisticated methods such as the regression models. With this remark in mind, we shall focus predominantly on steps 1-5 below. We show how one can use grid search methods to find optimal hyperparameters in ***step 6***."
   ]
  },
  {
   "cell_type": "markdown",
   "metadata": {
    "id": "epHtOl8U4L9R"
   },
   "source": [
    "### Step 1: Load and Process the Data\n",
    "\n",
    "Keras knows to download automatically the MNIST data from the web. All we need to do is import the `mnist` module and use the `load_data()` class, and it will create the training and test data sets or us.\n",
    "\n",
    "The MNIST set has pre-defined test and training sets, in order to facilitate the comparison of the performance of different models on the data.\n",
    "\n",
    "Once we have loaded the data, we need to format it in the correct shape ($({\\mathrm{N_{samples}}}, {\\mathrm{N_{features}}})$).\n",
    "\n",
    "The size of each sample, i.e. the number of bare features used is N_features (whis is 784 because we have a $28 \\times 28$ pixel grid), while the number of potential classification categories is \"num_classes\" (which is 10, number of digits).\n",
    "\n",
    "Each pixel\n",
    "contains a greyscale value quantified by an integer between\n",
    "0 and 255. To standardize the dataset, we normalize\n",
    "the input data in the interval [0, 1]."
   ]
  },
  {
   "cell_type": "code",
   "execution_count": null,
   "metadata": {
    "colab": {
     "base_uri": "https://localhost:8080/",
     "height": 1000
    },
    "collapsed": true,
    "executionInfo": {
     "elapsed": 85548,
     "status": "ok",
     "timestamp": 1701726808395,
     "user": {
      "displayName": "Elizabeth Donoway",
      "userId": "08360168193001379433"
     },
     "user_tz": 480
    },
    "id": "7m0bPPsb4L9S",
    "outputId": "acf0b5a7-9ee3-4fd7-d8cb-f05bb67e1f3f"
   },
   "outputs": [
    {
     "name": "stdout",
     "output_type": "stream",
     "text": [
      "Collecting tensorflow~=2.10.0\n",
      "  Downloading tensorflow-2.10.1-cp310-cp310-manylinux_2_17_x86_64.manylinux2014_x86_64.whl (578.1 MB)\n",
      "\u001b[2K     \u001b[90m━━━━━━━━━━━━━━━━━━━━━━━━━━━━━━━━━━━━━━━━\u001b[0m \u001b[32m578.1/578.1 MB\u001b[0m \u001b[31m1.3 MB/s\u001b[0m eta \u001b[36m0:00:00\u001b[0m\n",
      "\u001b[?25hRequirement already satisfied: absl-py>=1.0.0 in /usr/local/lib/python3.10/dist-packages (from tensorflow~=2.10.0) (1.4.0)\n",
      "Requirement already satisfied: astunparse>=1.6.0 in /usr/local/lib/python3.10/dist-packages (from tensorflow~=2.10.0) (1.6.3)\n",
      "Requirement already satisfied: flatbuffers>=2.0 in /usr/local/lib/python3.10/dist-packages (from tensorflow~=2.10.0) (23.5.26)\n",
      "Collecting gast<=0.4.0,>=0.2.1 (from tensorflow~=2.10.0)\n",
      "  Downloading gast-0.4.0-py3-none-any.whl (9.8 kB)\n",
      "Requirement already satisfied: google-pasta>=0.1.1 in /usr/local/lib/python3.10/dist-packages (from tensorflow~=2.10.0) (0.2.0)\n",
      "Requirement already satisfied: grpcio<2.0,>=1.24.3 in /usr/local/lib/python3.10/dist-packages (from tensorflow~=2.10.0) (1.59.3)\n",
      "Requirement already satisfied: h5py>=2.9.0 in /usr/local/lib/python3.10/dist-packages (from tensorflow~=2.10.0) (3.9.0)\n",
      "Collecting keras<2.11,>=2.10.0 (from tensorflow~=2.10.0)\n",
      "  Downloading keras-2.10.0-py2.py3-none-any.whl (1.7 MB)\n",
      "\u001b[2K     \u001b[90m━━━━━━━━━━━━━━━━━━━━━━━━━━━━━━━━━━━━━━━━\u001b[0m \u001b[32m1.7/1.7 MB\u001b[0m \u001b[31m63.5 MB/s\u001b[0m eta \u001b[36m0:00:00\u001b[0m\n",
      "\u001b[?25hCollecting keras-preprocessing>=1.1.1 (from tensorflow~=2.10.0)\n",
      "  Downloading Keras_Preprocessing-1.1.2-py2.py3-none-any.whl (42 kB)\n",
      "\u001b[2K     \u001b[90m━━━━━━━━━━━━━━━━━━━━━━━━━━━━━━━━━━━━━━━━\u001b[0m \u001b[32m42.6/42.6 kB\u001b[0m \u001b[31m3.2 MB/s\u001b[0m eta \u001b[36m0:00:00\u001b[0m\n",
      "\u001b[?25hRequirement already satisfied: libclang>=13.0.0 in /usr/local/lib/python3.10/dist-packages (from tensorflow~=2.10.0) (16.0.6)\n",
      "Requirement already satisfied: numpy>=1.20 in /usr/local/lib/python3.10/dist-packages (from tensorflow~=2.10.0) (1.23.5)\n",
      "Requirement already satisfied: opt-einsum>=2.3.2 in /usr/local/lib/python3.10/dist-packages (from tensorflow~=2.10.0) (3.3.0)\n",
      "Requirement already satisfied: packaging in /usr/local/lib/python3.10/dist-packages (from tensorflow~=2.10.0) (23.2)\n",
      "Collecting protobuf<3.20,>=3.9.2 (from tensorflow~=2.10.0)\n",
      "  Downloading protobuf-3.19.6-cp310-cp310-manylinux_2_17_x86_64.manylinux2014_x86_64.whl (1.1 MB)\n",
      "\u001b[2K     \u001b[90m━━━━━━━━━━━━━━━━━━━━━━━━━━━━━━━━━━━━━━━━\u001b[0m \u001b[32m1.1/1.1 MB\u001b[0m \u001b[31m73.0 MB/s\u001b[0m eta \u001b[36m0:00:00\u001b[0m\n",
      "\u001b[?25hRequirement already satisfied: setuptools in /usr/local/lib/python3.10/dist-packages (from tensorflow~=2.10.0) (67.7.2)\n",
      "Requirement already satisfied: six>=1.12.0 in /usr/local/lib/python3.10/dist-packages (from tensorflow~=2.10.0) (1.16.0)\n",
      "Collecting tensorboard<2.11,>=2.10 (from tensorflow~=2.10.0)\n",
      "  Downloading tensorboard-2.10.1-py3-none-any.whl (5.9 MB)\n",
      "\u001b[2K     \u001b[90m━━━━━━━━━━━━━━━━━━━━━━━━━━━━━━━━━━━━━━━━\u001b[0m \u001b[32m5.9/5.9 MB\u001b[0m \u001b[31m101.3 MB/s\u001b[0m eta \u001b[36m0:00:00\u001b[0m\n",
      "\u001b[?25hRequirement already satisfied: tensorflow-io-gcs-filesystem>=0.23.1 in /usr/local/lib/python3.10/dist-packages (from tensorflow~=2.10.0) (0.34.0)\n",
      "Collecting tensorflow-estimator<2.11,>=2.10.0 (from tensorflow~=2.10.0)\n",
      "  Downloading tensorflow_estimator-2.10.0-py2.py3-none-any.whl (438 kB)\n",
      "\u001b[2K     \u001b[90m━━━━━━━━━━━━━━━━━━━━━━━━━━━━━━━━━━━━━━━━\u001b[0m \u001b[32m438.7/438.7 kB\u001b[0m \u001b[31m37.2 MB/s\u001b[0m eta \u001b[36m0:00:00\u001b[0m\n",
      "\u001b[?25hRequirement already satisfied: termcolor>=1.1.0 in /usr/local/lib/python3.10/dist-packages (from tensorflow~=2.10.0) (2.3.0)\n",
      "Requirement already satisfied: typing-extensions>=3.6.6 in /usr/local/lib/python3.10/dist-packages (from tensorflow~=2.10.0) (4.5.0)\n",
      "Requirement already satisfied: wrapt>=1.11.0 in /usr/local/lib/python3.10/dist-packages (from tensorflow~=2.10.0) (1.14.1)\n",
      "Requirement already satisfied: wheel<1.0,>=0.23.0 in /usr/local/lib/python3.10/dist-packages (from astunparse>=1.6.0->tensorflow~=2.10.0) (0.42.0)\n",
      "Requirement already satisfied: google-auth<3,>=1.6.3 in /usr/local/lib/python3.10/dist-packages (from tensorboard<2.11,>=2.10->tensorflow~=2.10.0) (2.17.3)\n",
      "Collecting google-auth-oauthlib<0.5,>=0.4.1 (from tensorboard<2.11,>=2.10->tensorflow~=2.10.0)\n",
      "  Downloading google_auth_oauthlib-0.4.6-py2.py3-none-any.whl (18 kB)\n",
      "Requirement already satisfied: markdown>=2.6.8 in /usr/local/lib/python3.10/dist-packages (from tensorboard<2.11,>=2.10->tensorflow~=2.10.0) (3.5.1)\n",
      "Requirement already satisfied: requests<3,>=2.21.0 in /usr/local/lib/python3.10/dist-packages (from tensorboard<2.11,>=2.10->tensorflow~=2.10.0) (2.31.0)\n",
      "Collecting tensorboard-data-server<0.7.0,>=0.6.0 (from tensorboard<2.11,>=2.10->tensorflow~=2.10.0)\n",
      "  Downloading tensorboard_data_server-0.6.1-py3-none-manylinux2010_x86_64.whl (4.9 MB)\n",
      "\u001b[2K     \u001b[90m━━━━━━━━━━━━━━━━━━━━━━━━━━━━━━━━━━━━━━━━\u001b[0m \u001b[32m4.9/4.9 MB\u001b[0m \u001b[31m103.2 MB/s\u001b[0m eta \u001b[36m0:00:00\u001b[0m\n",
      "\u001b[?25hCollecting tensorboard-plugin-wit>=1.6.0 (from tensorboard<2.11,>=2.10->tensorflow~=2.10.0)\n",
      "  Downloading tensorboard_plugin_wit-1.8.1-py3-none-any.whl (781 kB)\n",
      "\u001b[2K     \u001b[90m━━━━━━━━━━━━━━━━━━━━━━━━━━━━━━━━━━━━━━━━\u001b[0m \u001b[32m781.3/781.3 kB\u001b[0m \u001b[31m64.2 MB/s\u001b[0m eta \u001b[36m0:00:00\u001b[0m\n",
      "\u001b[?25hRequirement already satisfied: werkzeug>=1.0.1 in /usr/local/lib/python3.10/dist-packages (from tensorboard<2.11,>=2.10->tensorflow~=2.10.0) (3.0.1)\n",
      "Requirement already satisfied: cachetools<6.0,>=2.0.0 in /usr/local/lib/python3.10/dist-packages (from google-auth<3,>=1.6.3->tensorboard<2.11,>=2.10->tensorflow~=2.10.0) (5.3.2)\n",
      "Requirement already satisfied: pyasn1-modules>=0.2.1 in /usr/local/lib/python3.10/dist-packages (from google-auth<3,>=1.6.3->tensorboard<2.11,>=2.10->tensorflow~=2.10.0) (0.3.0)\n",
      "Requirement already satisfied: rsa<5,>=3.1.4 in /usr/local/lib/python3.10/dist-packages (from google-auth<3,>=1.6.3->tensorboard<2.11,>=2.10->tensorflow~=2.10.0) (4.9)\n",
      "Requirement already satisfied: requests-oauthlib>=0.7.0 in /usr/local/lib/python3.10/dist-packages (from google-auth-oauthlib<0.5,>=0.4.1->tensorboard<2.11,>=2.10->tensorflow~=2.10.0) (1.3.1)\n",
      "Requirement already satisfied: charset-normalizer<4,>=2 in /usr/local/lib/python3.10/dist-packages (from requests<3,>=2.21.0->tensorboard<2.11,>=2.10->tensorflow~=2.10.0) (3.3.2)\n",
      "Requirement already satisfied: idna<4,>=2.5 in /usr/local/lib/python3.10/dist-packages (from requests<3,>=2.21.0->tensorboard<2.11,>=2.10->tensorflow~=2.10.0) (3.6)\n",
      "Requirement already satisfied: urllib3<3,>=1.21.1 in /usr/local/lib/python3.10/dist-packages (from requests<3,>=2.21.0->tensorboard<2.11,>=2.10->tensorflow~=2.10.0) (2.0.7)\n",
      "Requirement already satisfied: certifi>=2017.4.17 in /usr/local/lib/python3.10/dist-packages (from requests<3,>=2.21.0->tensorboard<2.11,>=2.10->tensorflow~=2.10.0) (2023.11.17)\n",
      "Requirement already satisfied: MarkupSafe>=2.1.1 in /usr/local/lib/python3.10/dist-packages (from werkzeug>=1.0.1->tensorboard<2.11,>=2.10->tensorflow~=2.10.0) (2.1.3)\n",
      "Requirement already satisfied: pyasn1<0.6.0,>=0.4.6 in /usr/local/lib/python3.10/dist-packages (from pyasn1-modules>=0.2.1->google-auth<3,>=1.6.3->tensorboard<2.11,>=2.10->tensorflow~=2.10.0) (0.5.1)\n",
      "Requirement already satisfied: oauthlib>=3.0.0 in /usr/local/lib/python3.10/dist-packages (from requests-oauthlib>=0.7.0->google-auth-oauthlib<0.5,>=0.4.1->tensorboard<2.11,>=2.10->tensorflow~=2.10.0) (3.2.2)\n",
      "Installing collected packages: tensorboard-plugin-wit, keras, tensorflow-estimator, tensorboard-data-server, protobuf, keras-preprocessing, gast, google-auth-oauthlib, tensorboard, tensorflow\n",
      "  Attempting uninstall: keras\n",
      "    Found existing installation: keras 2.14.0\n",
      "    Uninstalling keras-2.14.0:\n",
      "      Successfully uninstalled keras-2.14.0\n",
      "  Attempting uninstall: tensorflow-estimator\n",
      "    Found existing installation: tensorflow-estimator 2.14.0\n",
      "    Uninstalling tensorflow-estimator-2.14.0:\n",
      "      Successfully uninstalled tensorflow-estimator-2.14.0\n",
      "  Attempting uninstall: tensorboard-data-server\n",
      "    Found existing installation: tensorboard-data-server 0.7.2\n",
      "    Uninstalling tensorboard-data-server-0.7.2:\n",
      "      Successfully uninstalled tensorboard-data-server-0.7.2\n",
      "  Attempting uninstall: protobuf\n",
      "    Found existing installation: protobuf 3.20.3\n",
      "    Uninstalling protobuf-3.20.3:\n",
      "      Successfully uninstalled protobuf-3.20.3\n",
      "  Attempting uninstall: gast\n",
      "    Found existing installation: gast 0.5.4\n",
      "    Uninstalling gast-0.5.4:\n",
      "      Successfully uninstalled gast-0.5.4\n",
      "  Attempting uninstall: google-auth-oauthlib\n",
      "    Found existing installation: google-auth-oauthlib 1.0.0\n",
      "    Uninstalling google-auth-oauthlib-1.0.0:\n",
      "      Successfully uninstalled google-auth-oauthlib-1.0.0\n",
      "  Attempting uninstall: tensorboard\n",
      "    Found existing installation: tensorboard 2.14.1\n",
      "    Uninstalling tensorboard-2.14.1:\n",
      "      Successfully uninstalled tensorboard-2.14.1\n",
      "  Attempting uninstall: tensorflow\n",
      "    Found existing installation: tensorflow 2.14.0\n",
      "    Uninstalling tensorflow-2.14.0:\n",
      "      Successfully uninstalled tensorflow-2.14.0\n",
      "\u001b[31mERROR: pip's dependency resolver does not currently take into account all the packages that are installed. This behaviour is the source of the following dependency conflicts.\n",
      "tensorflow-datasets 4.9.3 requires protobuf>=3.20, but you have protobuf 3.19.6 which is incompatible.\n",
      "tensorflow-metadata 1.14.0 requires protobuf<4.21,>=3.20.3, but you have protobuf 3.19.6 which is incompatible.\u001b[0m\u001b[31m\n",
      "\u001b[0mSuccessfully installed gast-0.4.0 google-auth-oauthlib-0.4.6 keras-2.10.0 keras-preprocessing-1.1.2 protobuf-3.19.6 tensorboard-2.10.1 tensorboard-data-server-0.6.1 tensorboard-plugin-wit-1.8.1 tensorflow-2.10.1 tensorflow-estimator-2.10.0\n"
     ]
    },
    {
     "data": {
      "application/vnd.colab-display-data+json": {
       "pip_warning": {
        "packages": [
         "gast",
         "google",
         "keras",
         "tensorboard",
         "tensorflow"
        ]
       }
      }
     },
     "metadata": {},
     "output_type": "display_data"
    },
    {
     "name": "stdout",
     "output_type": "stream",
     "text": [
      "Collecting scikeras\n",
      "  Downloading scikeras-0.12.0-py3-none-any.whl (27 kB)\n",
      "Requirement already satisfied: packaging>=0.21 in /usr/local/lib/python3.10/dist-packages (from scikeras) (23.2)\n",
      "Requirement already satisfied: scikit-learn>=1.0.0 in /usr/local/lib/python3.10/dist-packages (from scikeras) (1.2.2)\n",
      "Requirement already satisfied: numpy>=1.17.3 in /usr/local/lib/python3.10/dist-packages (from scikit-learn>=1.0.0->scikeras) (1.23.5)\n",
      "Requirement already satisfied: scipy>=1.3.2 in /usr/local/lib/python3.10/dist-packages (from scikit-learn>=1.0.0->scikeras) (1.11.4)\n",
      "Requirement already satisfied: joblib>=1.1.1 in /usr/local/lib/python3.10/dist-packages (from scikit-learn>=1.0.0->scikeras) (1.3.2)\n",
      "Requirement already satisfied: threadpoolctl>=2.0.0 in /usr/local/lib/python3.10/dist-packages (from scikit-learn>=1.0.0->scikeras) (3.2.0)\n",
      "Installing collected packages: scikeras\n",
      "Successfully installed scikeras-0.12.0\n",
      "Requirement already satisfied: scikit-learn in /usr/local/lib/python3.10/dist-packages (1.2.2)\n",
      "Requirement already satisfied: numpy>=1.17.3 in /usr/local/lib/python3.10/dist-packages (from scikit-learn) (1.23.5)\n",
      "Requirement already satisfied: scipy>=1.3.2 in /usr/local/lib/python3.10/dist-packages (from scikit-learn) (1.11.4)\n",
      "Requirement already satisfied: joblib>=1.1.1 in /usr/local/lib/python3.10/dist-packages (from scikit-learn) (1.3.2)\n",
      "Requirement already satisfied: threadpoolctl>=2.0.0 in /usr/local/lib/python3.10/dist-packages (from scikit-learn) (3.2.0)\n"
     ]
    }
   ],
   "source": [
    "!pip install tensorflow~=2.10.0\n",
    "!pip install scikeras\n",
    "!pip install scikit-learn"
   ]
  },
  {
   "cell_type": "code",
   "execution_count": null,
   "metadata": {
    "collapsed": true,
    "id": "VorYHzkO4L9T"
   },
   "outputs": [],
   "source": [
    "import sklearn\n",
    "import tensorflow.keras as keras\n",
    "# suppress tensorflow compilation warnings\n",
    "import os\n",
    "import tensorflow as tf\n",
    "# import tensorflow.compat.v1 as tf\n",
    "# tf.disable_v2_behavior()\n",
    "os.environ['TF_CPP_MIN_LOG_LEVEL'] = '2'\n",
    "seed=0\n",
    "np.random.seed(seed) # fix random seed\n",
    "tf.random.set_seed(seed)\n",
    "\n",
    "from tensorflow.keras.datasets import mnist\n",
    "\n",
    "# input image dimensions\n",
    "num_classes = 10 # 10 digits\n",
    "\n",
    "img_rows, img_cols = 28, 28 # number of pixels\n",
    "\n",
    "# the data, shuffled and split between train and test sets\n",
    "(X_train, Y_train), (X_test, Y_test) = mnist.load_data()\n",
    "X_train = X_train[:40000]\n",
    "Y_train = Y_train[:40000]\n",
    "\n",
    "# reshape data, depending on Keras backend\n",
    "X_train = X_train.reshape(X_train.shape[0], img_rows*img_cols)\n",
    "X_test = X_test.reshape(X_test.shape[0], img_rows*img_cols)\n",
    "\n",
    "# cast floats to single precesion\n",
    "X_train = X_train.astype('float32')\n",
    "X_test = X_test.astype('float32')\n",
    "\n",
    "# rescale data in interval [0,1]\n",
    "X_train /= 255\n",
    "X_test /= 255\n"
   ]
  },
  {
   "cell_type": "markdown",
   "metadata": {
    "id": "ts2iLePJ4L9T"
   },
   "source": [
    "<span style=\"color:blue\"> <i> 1. Make a plot of one MNIST digit (2D plot using X data - make sure to reshape it into a $28 \\times 28$ matrix) and label it (which digit does it correspond to?). </i></span> <br>"
   ]
  },
  {
   "cell_type": "code",
   "execution_count": null,
   "metadata": {
    "colab": {
     "base_uri": "https://localhost:8080/",
     "height": 452
    },
    "collapsed": true,
    "executionInfo": {
     "elapsed": 472,
     "status": "ok",
     "timestamp": 1701724551020,
     "user": {
      "displayName": "Elizabeth Donoway",
      "userId": "08360168193001379433"
     },
     "user_tz": 480
    },
    "id": "A9_6FM1B4L9T",
    "outputId": "36c2edd2-f100-4e78-9b72-2dbd1fce5ddd"
   },
   "outputs": [
    {
     "data": {
      "image/png": "[encoded data removed]",
      "text/plain": [
       "<Figure size 640x480 with 1 Axes>"
      ]
     },
     "metadata": {},
     "output_type": "display_data"
    }
   ],
   "source": [
    "plt.imshow(X_train[0].reshape((28,-1)), cmap='gray')\n",
    "plt.title(f'Label (digit): {(Y_train[0])}')\n",
    "plt.show()"
   ]
  },
  {
   "cell_type": "markdown",
   "metadata": {
    "id": "tMTlkGS94L9U"
   },
   "source": [
    "Last, we cast the label vectors $y$ to binary class matrices (a.k.a. one-hot format)."
   ]
  },
  {
   "cell_type": "code",
   "execution_count": null,
   "metadata": {
    "colab": {
     "base_uri": "https://localhost:8080/"
    },
    "collapsed": true,
    "executionInfo": {
     "elapsed": 178,
     "status": "ok",
     "timestamp": 1701726845298,
     "user": {
      "displayName": "Elizabeth Donoway",
      "userId": "08360168193001379433"
     },
     "user_tz": 480
    },
    "id": "JOtPggZf4L9U",
    "outputId": "060fd5cc-7d75-4e79-f907-ce99c98a40e4"
   },
   "outputs": [
    {
     "name": "stdout",
     "output_type": "stream",
     "text": [
      "before conversion - \n",
      "y vector :  [5 0 4 1 9 2 1 3 1 4]\n",
      "after conversion - \n",
      "y vector :  [[0. 0. 0. 0. 0. 1. 0. 0. 0. 0.]\n",
      " [1. 0. 0. 0. 0. 0. 0. 0. 0. 0.]\n",
      " [0. 0. 0. 0. 1. 0. 0. 0. 0. 0.]\n",
      " [0. 1. 0. 0. 0. 0. 0. 0. 0. 0.]\n",
      " [0. 0. 0. 0. 0. 0. 0. 0. 0. 1.]\n",
      " [0. 0. 1. 0. 0. 0. 0. 0. 0. 0.]\n",
      " [0. 1. 0. 0. 0. 0. 0. 0. 0. 0.]\n",
      " [0. 0. 0. 1. 0. 0. 0. 0. 0. 0.]\n",
      " [0. 1. 0. 0. 0. 0. 0. 0. 0. 0.]\n",
      " [0. 0. 0. 0. 1. 0. 0. 0. 0. 0.]]\n"
     ]
    }
   ],
   "source": [
    "# convert class vectors to binary class matrices\n",
    "\n",
    "print(\"before conversion - \")\n",
    "print(\"y vector : \", Y_train[0:10])\n",
    "\n",
    "Y_train = tf.keras.utils.to_categorical(Y_train, num_classes)\n",
    "Y_test = tf.keras.utils.to_categorical(Y_test, num_classes)\n",
    "\n",
    "print(\"after conversion - \")\n",
    "print(\"y vector : \", Y_train[0:10])"
   ]
  },
  {
   "cell_type": "markdown",
   "metadata": {
    "id": "DsdCk0064L9U"
   },
   "source": [
    "Here in this template, we use 40000 training samples and 10000 test samples. Remember that we preprocessed data into the shape $({\\mathrm{N_{samples}}}, {\\mathrm{N_{features}}})$."
   ]
  },
  {
   "cell_type": "code",
   "execution_count": null,
   "metadata": {
    "colab": {
     "base_uri": "https://localhost:8080/"
    },
    "collapsed": true,
    "executionInfo": {
     "elapsed": 340,
     "status": "ok",
     "timestamp": 1701724689283,
     "user": {
      "displayName": "Elizabeth Donoway",
      "userId": "08360168193001379433"
     },
     "user_tz": 480
    },
    "id": "joWzxBBF4L9U",
    "outputId": "4dd04d9a-dc6d-43e4-db19-fc9d71819309"
   },
   "outputs": [
    {
     "name": "stdout",
     "output_type": "stream",
     "text": [
      "X_train shape: (40000, 784)\n",
      "Y_train shape: (40000, 10)\n",
      "\n",
      "40000 train samples\n",
      "10000 test samples\n"
     ]
    }
   ],
   "source": [
    "print('X_train shape:', X_train.shape)\n",
    "print('Y_train shape:', Y_train.shape)\n",
    "print()\n",
    "print(X_train.shape[0], 'train samples')\n",
    "print(X_test.shape[0], 'test samples')"
   ]
  },
  {
   "cell_type": "markdown",
   "metadata": {
    "id": "2W_wWULL4L9V"
   },
   "source": [
    "### Step 2: Define the Neural Net and its Architecture\n",
    "\n",
    "We can now move on to construct our deep neural net. We shall use Keras's `Sequential()` class to instantiate a model, and will add different deep layers one by one.\n",
    "\n",
    "Let us create an instance of Keras' `Sequential()` class, called `model`. As the name suggests, this class allows us to build DNNs layer by layer. (https://keras.io/getting-started/sequential-model-guide/)"
   ]
  },
  {
   "cell_type": "code",
   "execution_count": null,
   "metadata": {
    "collapsed": true,
    "id": "X3ETWMc14L9V"
   },
   "outputs": [],
   "source": [
    "from tensorflow.keras.models import Sequential\n",
    "from tensorflow.keras.layers import Dense, Dropout, Flatten\n",
    "from tensorflow.keras.layers import Conv2D, MaxPooling2D\n",
    "\n",
    "# instantiate model\n",
    "model = Sequential()"
   ]
  },
  {
   "cell_type": "markdown",
   "metadata": {
    "id": "PwdxkW8d4L9V"
   },
   "source": [
    "We use the `add()` method to attach layers to our model. For the purposes of our introductory example, it suffices to focus on `Dense` layers for simplicity. (https://keras.io/layers/core/) Every `Dense()` layer accepts as its first required argument an integer which specifies the number of neurons. The type of activation function for the layer is defined using the `activation` optional argument, the input of which is the name of the activation function in `string` format. Examples include `relu`, `tanh`, `elu`, `sigmoid`, `softmax`.\n",
    "\n",
    "In order for our DNN to work properly, we have to make sure that the numbers of input and output neurons for each layer match. Therefore, we specify the shape of the input in the first layer of the model explicitly using the optional argument `input_shape=(N_features,)`. The sequential construction of the model then allows Keras to infer the correct input/output dimensions of all hidden layers automatically. Hence, we only need to specify the size of the softmax output layer to match the number of categories.\n",
    "\n",
    "First, add a `Dense` layer with 400 output neurons and `relu` activation function."
   ]
  },
  {
   "cell_type": "code",
   "execution_count": null,
   "metadata": {
    "collapsed": true,
    "id": "cm0ao5QA4L9V"
   },
   "outputs": [],
   "source": [
    "model.add(Dense(400,input_shape=(img_rows*img_cols,), activation='relu'))"
   ]
  },
  {
   "cell_type": "markdown",
   "metadata": {
    "id": "2BWzCAaU4L9W"
   },
   "source": [
    "Add another layer with 100 output neurons. Then, we will apply \"dropout,\" a regularization scheme that has been widely adopted in the neural networks literature: during the training procedure neurons\n",
    "are randomly “dropped out” of the neural network with some\n",
    "probability $p$ giving rise to a thinned network. It prevents overfitting by reducing spurious correlations between neurons within the network by introducing\n",
    "a randomization procedure."
   ]
  },
  {
   "cell_type": "code",
   "execution_count": null,
   "metadata": {
    "collapsed": true,
    "id": "8nVDKYB94L9X"
   },
   "outputs": [],
   "source": [
    "model.add(Dense(100, activation='relu'))\n",
    "# apply dropout with rate 0.5\n",
    "model.add(Dropout(0.5))"
   ]
  },
  {
   "cell_type": "markdown",
   "metadata": {
    "id": "m1u7VdcS4L9X"
   },
   "source": [
    "Lastly, we need to add a soft-max layer since we have a multi-class output."
   ]
  },
  {
   "cell_type": "code",
   "execution_count": null,
   "metadata": {
    "collapsed": true,
    "id": "u-_FsdOQ4L9X"
   },
   "outputs": [],
   "source": [
    "model.add(Dense(num_classes, activation='softmax'))"
   ]
  },
  {
   "cell_type": "markdown",
   "metadata": {
    "id": "nsgPfS2r4L9Y"
   },
   "source": [
    "### Step 3: Choose the Optimizer and the Cost Function\n",
    "\n",
    "Next, we choose the loss function according to which to train the DNN. For classification problems, this is the cross entropy, and since the output data was cast in categorical form, we choose the `categorical_crossentropy` defined in Keras' `losses` module. Depending on the problem of interest one can pick any other suitable loss function. To optimize the weights of the net, we choose SGD. This algorithm is already available to use under Keras' `optimizers` module (https://keras.io/optimizers/), but we could use `Adam()` or any other built-in one as well. The parameters for the optimizer, such as `lr` (learning rate) or `momentum` are passed using the corresponding optional arguments of the `SGD()` function.\n",
    "\n",
    "While the loss function and the optimizer are essential for the training procedure, to test the performance of the model one may want to look at a particular `metric` of performance. For instance, in categorical tasks one typically looks at their `accuracy`, which is defined as the percentage of correctly classified data points.\n",
    "\n",
    "To complete the definition of our model, we use the `compile()` method, with optional arguments for the `optimizer`, `loss`, and the validation `metric` as follows:"
   ]
  },
  {
   "cell_type": "code",
   "execution_count": null,
   "metadata": {
    "collapsed": true,
    "id": "I5YkScG-4L9Y"
   },
   "outputs": [],
   "source": [
    "# compile the model\n",
    "model.compile(loss=tf.keras.losses.categorical_crossentropy, optimizer='SGD', metrics=['accuracy'])\n"
   ]
  },
  {
   "cell_type": "markdown",
   "metadata": {
    "id": "UE-z35WN4L9Y"
   },
   "source": [
    "### Step 4: Train the model\n",
    "\n",
    "We train our DNN in minibatches. Shuffling the training data during training improves stability of the model. Thus, we train over a number of training epochs.\n",
    "\n",
    "(The number of epochs is the number of complete passes through the training dataset, and the batch size is a number of samples propagated through the network before the model is updated.)\n",
    "\n",
    "Training the DNN is a one-liner using the `fit()` method of the `Sequential` class. The first two required arguments are the training input and output data. As optional arguments, we specify the mini-`batch_size`, the number of training `epochs`, and the test or validation data. To monitor the training procedure for every epoch, we set `verbose=True`.\n",
    "\n",
    "Let us set `batch_size` = 64 and `epochs` = 10."
   ]
  },
  {
   "cell_type": "code",
   "execution_count": null,
   "metadata": {
    "colab": {
     "base_uri": "https://localhost:8080/"
    },
    "collapsed": true,
    "executionInfo": {
     "elapsed": 51256,
     "status": "ok",
     "timestamp": 1701724832177,
     "user": {
      "displayName": "Elizabeth Donoway",
      "userId": "08360168193001379433"
     },
     "user_tz": 480
    },
    "id": "O1Yrr3c_4L9Y",
    "outputId": "34d3b02b-4e28-4a41-cb14-1c304a552bb7"
   },
   "outputs": [
    {
     "name": "stdout",
     "output_type": "stream",
     "text": [
      "Epoch 1/10\n",
      "625/625 [==============================] - 5s 7ms/step - loss: 1.2364 - accuracy: 0.6296 - val_loss: 0.5333 - val_accuracy: 0.8804\n",
      "Epoch 2/10\n",
      "625/625 [==============================] - 6s 10ms/step - loss: 0.6082 - accuracy: 0.8240 - val_loss: 0.3696 - val_accuracy: 0.9058\n",
      "Epoch 3/10\n",
      "625/625 [==============================] - 5s 7ms/step - loss: 0.4864 - accuracy: 0.8600 - val_loss: 0.3115 - val_accuracy: 0.9148\n",
      "Epoch 4/10\n",
      "625/625 [==============================] - 4s 7ms/step - loss: 0.4254 - accuracy: 0.8777 - val_loss: 0.2826 - val_accuracy: 0.9213\n",
      "Epoch 5/10\n",
      "625/625 [==============================] - 5s 8ms/step - loss: 0.3846 - accuracy: 0.8907 - val_loss: 0.2601 - val_accuracy: 0.9260\n",
      "Epoch 6/10\n",
      "625/625 [==============================] - 6s 9ms/step - loss: 0.3531 - accuracy: 0.8994 - val_loss: 0.2419 - val_accuracy: 0.9295\n",
      "Epoch 7/10\n",
      "625/625 [==============================] - 4s 6ms/step - loss: 0.3292 - accuracy: 0.9065 - val_loss: 0.2281 - val_accuracy: 0.9337\n",
      "Epoch 8/10\n",
      "625/625 [==============================] - 4s 6ms/step - loss: 0.3136 - accuracy: 0.9117 - val_loss: 0.2141 - val_accuracy: 0.9365\n",
      "Epoch 9/10\n",
      "625/625 [==============================] - 6s 10ms/step - loss: 0.2932 - accuracy: 0.9177 - val_loss: 0.2045 - val_accuracy: 0.9395\n",
      "Epoch 10/10\n",
      "625/625 [==============================] - 5s 9ms/step - loss: 0.2786 - accuracy: 0.9226 - val_loss: 0.1943 - val_accuracy: 0.9428\n"
     ]
    }
   ],
   "source": [
    "# training parameters\n",
    "batch_size = 64\n",
    "epochs = 10\n",
    "\n",
    "# train DNN and store training info in history\n",
    "history=model.fit(X_train, Y_train, batch_size=batch_size, epochs=epochs,\n",
    "          verbose=1, validation_data=(X_test, Y_test))"
   ]
  },
  {
   "cell_type": "markdown",
   "metadata": {
    "id": "dxg4jUE94L9Z"
   },
   "source": [
    "### Step 5: Evaluate the Model Performance on the *Unseen* Test Data\n",
    "\n",
    "Next, we evaluate the model and read of the loss on the test data, and its accuracy using the `evaluate()` method."
   ]
  },
  {
   "cell_type": "code",
   "execution_count": null,
   "metadata": {
    "colab": {
     "base_uri": "https://localhost:8080/",
     "height": 935
    },
    "collapsed": true,
    "executionInfo": {
     "elapsed": 2562,
     "status": "ok",
     "timestamp": 1701724844949,
     "user": {
      "displayName": "Elizabeth Donoway",
      "userId": "08360168193001379433"
     },
     "user_tz": 480
    },
    "id": "hgJZwKCM4L9Z",
    "outputId": "00bb3e26-19b9-4649-e611-1abce8409319"
   },
   "outputs": [
    {
     "name": "stdout",
     "output_type": "stream",
     "text": [
      "313/313 [==============================] - 1s 3ms/step - loss: 0.1943 - accuracy: 0.9428\n",
      "Test loss: 0.1943226009607315\n",
      "Test accuracy: 0.942799985408783\n"
     ]
    },
    {
     "data": {
      "image/png": "[encoded data removed]",
      "text/plain": [
       "<Figure size 640x480 with 1 Axes>"
      ]
     },
     "metadata": {},
     "output_type": "display_data"
    },
    {
     "data": {
      "image/png": "[encoded data removed]",
      "text/plain": [
       "<Figure size 640x480 with 1 Axes>"
      ]
     },
     "metadata": {},
     "output_type": "display_data"
    }
   ],
   "source": [
    "# evaluate model\n",
    "score = model.evaluate(X_test, Y_test, verbose=1)\n",
    "\n",
    "# print performance\n",
    "print('Test loss:', score[0])\n",
    "print('Test accuracy:', score[1])\n",
    "\n",
    "# look into training history\n",
    "\n",
    "# summarize history for accuracy\n",
    "plt.plot(history.history['accuracy'])\n",
    "plt.plot(history.history['val_accuracy'])\n",
    "plt.ylabel('model accuracy')\n",
    "plt.xlabel('epoch')\n",
    "plt.legend(['train', 'test'], loc='best')\n",
    "plt.show()\n",
    "\n",
    "# summarize history for loss\n",
    "plt.plot(history.history['loss'])\n",
    "plt.plot(history.history['val_loss'])\n",
    "plt.ylabel('model loss')\n",
    "plt.xlabel('epoch')\n",
    "plt.legend(['train', 'test'], loc='best')\n",
    "plt.show()"
   ]
  },
  {
   "cell_type": "markdown",
   "metadata": {
    "id": "752K91Hy4L9Z"
   },
   "source": [
    "### Step 6: Modify the Hyperparameters to Optimize Performance of the Model\n",
    "\n",
    "Last, we show how to use the grid search option of scikit-learn (https://scikit-learn.org/stable/modules/generated/sklearn.model_selection.GridSearchCV.html) to optimize the\n",
    "hyperparameters of our model.\n",
    "\n",
    "First, define a function for crating a DNN:"
   ]
  },
  {
   "cell_type": "code",
   "execution_count": null,
   "metadata": {
    "collapsed": true,
    "id": "jMnpuBTx4L9Z"
   },
   "outputs": [],
   "source": [
    "def create_DNN(optimizer=tf.keras.optimizers.Adam()):\n",
    "    model = Sequential()\n",
    "    model.add(Dense(400,input_shape=(img_rows*img_cols,), activation='relu'))\n",
    "    model.add(Dense(100, activation='relu'))\n",
    "    model.add(Dropout(0.5))\n",
    "    model.add(Dense(num_classes, activation='softmax'))\n",
    "    model.compile(loss=tf.keras.losses.categorical_crossentropy,\n",
    "              optimizer=optimizer,\n",
    "              metrics=['accuracy'])\n",
    "    return model"
   ]
  },
  {
   "cell_type": "markdown",
   "metadata": {
    "id": "RTHUiI4l4L9a"
   },
   "source": [
    "With epochs = 1 and batch_size = 64, do grid search over the following optimization schemes: ['SGD', 'RMSprop', 'Adagrad', 'Adadelta', 'Adam', 'Adamax', 'Nadam']."
   ]
  },
  {
   "cell_type": "code",
   "execution_count": null,
   "metadata": {
    "colab": {
     "base_uri": "https://localhost:8080/"
    },
    "collapsed": true,
    "executionInfo": {
     "elapsed": 182800,
     "status": "ok",
     "timestamp": 1701725045184,
     "user": {
      "displayName": "Elizabeth Donoway",
      "userId": "08360168193001379433"
     },
     "user_tz": 480
    },
    "id": "yOli-mzl4L9a",
    "outputId": "9f69ef03-3287-4324-eab3-c8007aa4e504",
    "scrolled": false
   },
   "outputs": [
    {
     "name": "stdout",
     "output_type": "stream",
     "text": [
      "469/469 [==============================] - 3s 6ms/step - loss: 1.3050 - accuracy: 0.6031\n",
      "157/157 [==============================] - 1s 4ms/step\n",
      "469/469 [==============================] - 3s 6ms/step - loss: 1.3021 - accuracy: 0.6064\n",
      "157/157 [==============================] - 0s 3ms/step\n",
      "469/469 [==============================] - 3s 6ms/step - loss: 1.3994 - accuracy: 0.5719\n",
      "157/157 [==============================] - 1s 3ms/step\n",
      "469/469 [==============================] - 3s 6ms/step - loss: 1.3685 - accuracy: 0.5837\n",
      "157/157 [==============================] - 1s 4ms/step\n",
      "469/469 [==============================] - 4s 8ms/step - loss: 0.4159 - accuracy: 0.8786\n",
      "157/157 [==============================] - 1s 3ms/step\n",
      "469/469 [==============================] - 4s 7ms/step - loss: 0.4140 - accuracy: 0.8768\n",
      "157/157 [==============================] - 1s 4ms/step\n",
      "469/469 [==============================] - 7s 10ms/step - loss: 0.4024 - accuracy: 0.8810\n",
      "157/157 [==============================] - 0s 3ms/step\n",
      "469/469 [==============================] - 4s 7ms/step - loss: 0.4040 - accuracy: 0.8801\n",
      "157/157 [==============================] - 1s 3ms/step\n",
      "469/469 [==============================] - 4s 8ms/step - loss: 1.9078 - accuracy: 0.3885\n",
      "157/157 [==============================] - 1s 5ms/step\n",
      "469/469 [==============================] - 4s 6ms/step - loss: 1.9719 - accuracy: 0.3545\n",
      "157/157 [==============================] - 1s 3ms/step\n",
      "469/469 [==============================] - 3s 6ms/step - loss: 1.9369 - accuracy: 0.3743\n",
      "157/157 [==============================] - 1s 3ms/step\n",
      "469/469 [==============================] - 5s 10ms/step - loss: 1.8905 - accuracy: 0.3954\n",
      "157/157 [==============================] - 1s 5ms/step\n",
      "469/469 [==============================] - 4s 7ms/step - loss: 2.3832 - accuracy: 0.1081\n",
      "157/157 [==============================] - 1s 3ms/step\n",
      "469/469 [==============================] - 4s 7ms/step - loss: 2.3470 - accuracy: 0.1072\n",
      "157/157 [==============================] - 1s 4ms/step\n",
      "469/469 [==============================] - 5s 9ms/step - loss: 2.3860 - accuracy: 0.0971\n",
      "157/157 [==============================] - 1s 3ms/step\n",
      "469/469 [==============================] - 5s 10ms/step - loss: 2.3289 - accuracy: 0.1320\n",
      "157/157 [==============================] - 1s 4ms/step\n",
      "469/469 [==============================] - 5s 9ms/step - loss: 0.4277 - accuracy: 0.8766\n",
      "157/157 [==============================] - 1s 5ms/step\n",
      "469/469 [==============================] - 3s 6ms/step - loss: 0.4310 - accuracy: 0.8735\n",
      "157/157 [==============================] - 1s 3ms/step\n",
      "469/469 [==============================] - 3s 6ms/step - loss: 0.4402 - accuracy: 0.8717\n",
      "157/157 [==============================] - 1s 3ms/step\n",
      "469/469 [==============================] - 5s 9ms/step - loss: 0.4388 - accuracy: 0.8686\n",
      "157/157 [==============================] - 1s 5ms/step\n",
      "469/469 [==============================] - 3s 6ms/step - loss: 0.6050 - accuracy: 0.8207\n",
      "157/157 [==============================] - 1s 3ms/step\n",
      "469/469 [==============================] - 3s 6ms/step - loss: 0.6157 - accuracy: 0.8213\n",
      "157/157 [==============================] - 1s 5ms/step\n",
      "469/469 [==============================] - 5s 9ms/step - loss: 0.6061 - accuracy: 0.8240\n",
      "157/157 [==============================] - 1s 3ms/step\n",
      "469/469 [==============================] - 4s 7ms/step - loss: 0.5981 - accuracy: 0.8237\n",
      "157/157 [==============================] - 1s 3ms/step\n",
      "469/469 [==============================] - 6s 12ms/step - loss: 0.4411 - accuracy: 0.8690\n",
      "157/157 [==============================] - 1s 4ms/step\n",
      "469/469 [==============================] - 5s 9ms/step - loss: 0.4308 - accuracy: 0.8732\n",
      "157/157 [==============================] - 1s 3ms/step\n",
      "469/469 [==============================] - 5s 9ms/step - loss: 0.4264 - accuracy: 0.8756\n",
      "157/157 [==============================] - 1s 5ms/step\n",
      "469/469 [==============================] - 7s 12ms/step - loss: 0.4311 - accuracy: 0.8739\n",
      "157/157 [==============================] - 1s 3ms/step\n",
      "625/625 [==============================] - 6s 9ms/step - loss: 0.3743 - accuracy: 0.8910\n"
     ]
    }
   ],
   "source": [
    "from sklearn.model_selection import GridSearchCV\n",
    "from scikeras.wrappers import KerasClassifier\n",
    "\n",
    "batch_size = 64\n",
    "epochs = 1\n",
    "model_gridsearch = KerasClassifier(model=create_DNN,\n",
    "                        epochs=epochs, batch_size=batch_size, verbose=1)\n",
    "\n",
    "# list of allowed optional arguments for the optimizer, see `compile_model()`\n",
    "optimizer = ['SGD', 'RMSprop', 'Adagrad', 'Adadelta', 'Adam', 'Adamax', 'Nadam']\n",
    "# define parameter dictionary\n",
    "param_grid = dict(model__optimizer=optimizer)\n",
    "# IMPORTANT: Note that the syntax to pass an argument to the create_DNN function requires\n",
    "# model__ to be added before the parameter name.\n",
    "\n",
    "# call scikit grid search module\n",
    "grid = GridSearchCV(estimator=model_gridsearch, param_grid=param_grid, n_jobs=1, cv=4)\n",
    "grid_result = grid.fit(X_train,Y_train)"
   ]
  },
  {
   "cell_type": "markdown",
   "metadata": {
    "id": "NhKw6eX64L9a"
   },
   "source": [
    "Show the mean test score of all optimization schemes and determine which scheme gives the best accuracy."
   ]
  },
  {
   "cell_type": "code",
   "execution_count": null,
   "metadata": {
    "colab": {
     "base_uri": "https://localhost:8080/"
    },
    "collapsed": true,
    "executionInfo": {
     "elapsed": 223,
     "status": "ok",
     "timestamp": 1701725069052,
     "user": {
      "displayName": "Elizabeth Donoway",
      "userId": "08360168193001379433"
     },
     "user_tz": 480
    },
    "id": "zJ2W711K4L9b",
    "outputId": "2b3160ca-321a-4a78-bcf4-bb5f6539a0bc"
   },
   "outputs": [
    {
     "name": "stdout",
     "output_type": "stream",
     "text": [
      "Best: 0.948125 using {'model__optimizer': 'Nadam'}\n",
      "0.849200 (0.003856) with: {'model__optimizer': 'SGD'}\n",
      "0.946825 (0.002896) with: {'model__optimizer': 'RMSprop'}\n",
      "0.717900 (0.024026) with: {'model__optimizer': 'Adagrad'}\n",
      "0.139475 (0.015803) with: {'model__optimizer': 'Adadelta'}\n",
      "0.947300 (0.002922) with: {'model__optimizer': 'Adam'}\n",
      "0.923375 (0.004062) with: {'model__optimizer': 'Adamax'}\n",
      "0.948125 (0.002259) with: {'model__optimizer': 'Nadam'}\n"
     ]
    }
   ],
   "source": [
    "# summarize results\n",
    "print(\"Best: %f using %s\" % (grid_result.best_score_, grid_result.best_params_))\n",
    "means = grid_result.cv_results_['mean_test_score']\n",
    "stds = grid_result.cv_results_['std_test_score']\n",
    "params = grid_result.cv_results_['params']\n",
    "for mean, stdev, param in zip(means, stds, params):\n",
    "    print(\"%f (%f) with: %r\" % (mean, stdev, param))"
   ]
  },
  {
   "cell_type": "markdown",
   "metadata": {
    "id": "rKwe9nq44L9c"
   },
   "source": [
    "<span style=\"color:blue\"> <i> 2. Now, create a DNN with one Dense layer having 200 output neurons, but let the activation function be an argument. Do the grid search over any 5 different activation functions from https://keras.io/activations/. Let epochs = 1, batches = 64, p_dropout=0.5, and optimizer=tf.keras.optimizers.Adam().  Make sure to print the mean test score of each case and determine which activation functions gives the best accuracy. </i></span> <br>\n"
   ]
  },
  {
   "cell_type": "code",
   "execution_count": null,
   "metadata": {
    "colab": {
     "base_uri": "https://localhost:8080/"
    },
    "collapsed": true,
    "executionInfo": {
     "elapsed": 106167,
     "status": "ok",
     "timestamp": 1701725820747,
     "user": {
      "displayName": "Elizabeth Donoway",
      "userId": "08360168193001379433"
     },
     "user_tz": 480
    },
    "id": "bDJ-3-Oo4L9l",
    "outputId": "d9fa81c4-d384-4e95-d44b-fd4e48d7273f"
   },
   "outputs": [
    {
     "name": "stdout",
     "output_type": "stream",
     "text": [
      "469/469 [==============================] - 4s 7ms/step - loss: 0.5069 - accuracy: 0.8503\n",
      "157/157 [==============================] - 1s 5ms/step\n",
      "469/469 [==============================] - 3s 6ms/step - loss: 0.5062 - accuracy: 0.8524\n",
      "157/157 [==============================] - 1s 3ms/step\n",
      "469/469 [==============================] - 4s 6ms/step - loss: 0.4984 - accuracy: 0.8532\n",
      "157/157 [==============================] - 0s 2ms/step\n",
      "469/469 [==============================] - 2s 4ms/step - loss: 0.4932 - accuracy: 0.8543\n",
      "157/157 [==============================] - 0s 2ms/step\n",
      "469/469 [==============================] - 2s 4ms/step - loss: 0.7831 - accuracy: 0.7679\n",
      "157/157 [==============================] - 0s 2ms/step\n",
      "469/469 [==============================] - 4s 6ms/step - loss: 0.7668 - accuracy: 0.7741\n",
      "157/157 [==============================] - 0s 2ms/step\n",
      "469/469 [==============================] - 2s 4ms/step - loss: 0.7874 - accuracy: 0.7663\n",
      "157/157 [==============================] - 0s 2ms/step\n",
      "469/469 [==============================] - 2s 4ms/step - loss: 0.7757 - accuracy: 0.7713\n",
      "157/157 [==============================] - 0s 2ms/step\n",
      "469/469 [==============================] - 4s 8ms/step - loss: 0.4835 - accuracy: 0.8559\n",
      "157/157 [==============================] - 1s 7ms/step\n",
      "469/469 [==============================] - 2s 4ms/step - loss: 0.4681 - accuracy: 0.8616\n",
      "157/157 [==============================] - 0s 2ms/step\n",
      "469/469 [==============================] - 2s 4ms/step - loss: 0.4825 - accuracy: 0.8562\n",
      "157/157 [==============================] - 0s 2ms/step\n",
      "469/469 [==============================] - 2s 4ms/step - loss: 0.4704 - accuracy: 0.8605\n",
      "157/157 [==============================] - 1s 3ms/step\n",
      "469/469 [==============================] - 5s 10ms/step - loss: 0.4818 - accuracy: 0.8538\n",
      "157/157 [==============================] - 0s 2ms/step\n",
      "469/469 [==============================] - 2s 4ms/step - loss: 0.4713 - accuracy: 0.8599\n",
      "157/157 [==============================] - 0s 2ms/step\n",
      "469/469 [==============================] - 2s 4ms/step - loss: 0.4761 - accuracy: 0.8566\n",
      "157/157 [==============================] - 0s 2ms/step\n",
      "469/469 [==============================] - 3s 5ms/step - loss: 0.4718 - accuracy: 0.8592\n",
      "157/157 [==============================] - 1s 3ms/step\n",
      "469/469 [==============================] - 4s 7ms/step - loss: 0.4859 - accuracy: 0.8548\n",
      "157/157 [==============================] - 1s 4ms/step\n",
      "469/469 [==============================] - 4s 7ms/step - loss: 0.4782 - accuracy: 0.8587\n",
      "157/157 [==============================] - 1s 4ms/step\n",
      "469/469 [==============================] - 4s 6ms/step - loss: 0.4903 - accuracy: 0.8545\n",
      "157/157 [==============================] - 1s 3ms/step\n",
      "469/469 [==============================] - 3s 5ms/step - loss: 0.4737 - accuracy: 0.8608\n",
      "157/157 [==============================] - 0s 2ms/step\n",
      "625/625 [==============================] - 3s 4ms/step - loss: 0.4391 - accuracy: 0.8706\n"
     ]
    }
   ],
   "source": [
    "def create_DNN(activation='relu'):\n",
    "    model = Sequential()\n",
    "    model.add(Dense(200,input_shape=(img_rows*img_cols,), activation=activation))\n",
    "    # model.add(Dense(100, activation=activation))\n",
    "    model.add(Dropout(0.5))\n",
    "    model.add(Dense(num_classes, activation='softmax'))\n",
    "    model.compile(loss=tf.keras.losses.categorical_crossentropy,\n",
    "              optimizer=tf.keras.optimizers.Adam(),\n",
    "              metrics=['accuracy'])\n",
    "    return model\n",
    "\n",
    "batch_size = 64\n",
    "epochs = 1\n",
    "model_gridsearch = KerasClassifier(model=create_DNN,\n",
    "                        epochs=epochs, batch_size=batch_size, verbose=1)\n",
    "\n",
    "# list of allowed optional arguments for the activation, see `compile_model()`\n",
    "activation = ['relu', 'sigmoid', 'tanh', 'elu', 'leaky_relu']\n",
    "# define parameter dictionary\n",
    "param_grid = dict(model__activation=activation)\n",
    "# IMPORTANT: Note that the syntax to pass an argument to the create_DNN function requires\n",
    "# model__ to be added before the parameter name.\n",
    "\n",
    "# call scikit grid search module\n",
    "grid = GridSearchCV(estimator=model_gridsearch, param_grid=param_grid, n_jobs=1, cv=4)\n",
    "grid_result = grid.fit(X_train,Y_train)"
   ]
  },
  {
   "cell_type": "code",
   "execution_count": null,
   "metadata": {
    "colab": {
     "base_uri": "https://localhost:8080/"
    },
    "executionInfo": {
     "elapsed": 240,
     "status": "ok",
     "timestamp": 1701725924345,
     "user": {
      "displayName": "Elizabeth Donoway",
      "userId": "08360168193001379433"
     },
     "user_tz": 480
    },
    "id": "juyHCR7ewZvH",
    "outputId": "f5bf3349-bf51-42ad-af76-89587a2f50b0"
   },
   "outputs": [
    {
     "name": "stdout",
     "output_type": "stream",
     "text": [
      "Best: 0.931700 using {'model__activation': 'relu'}\n",
      "0.931700 (0.002194) with: {'model__activation': 'relu'}\n",
      "0.896100 (0.001868) with: {'model__activation': 'sigmoid'}\n",
      "0.910100 (0.005367) with: {'model__activation': 'tanh'}\n",
      "0.912675 (0.004086) with: {'model__activation': 'elu'}\n",
      "0.923025 (0.003003) with: {'model__activation': 'leaky_relu'}\n"
     ]
    }
   ],
   "source": [
    "# summarize results\n",
    "print(\"Best: %f using %s\" % (grid_result.best_score_, grid_result.best_params_))\n",
    "means = grid_result.cv_results_['mean_test_score']\n",
    "stds = grid_result.cv_results_['std_test_score']\n",
    "params = grid_result.cv_results_['params']\n",
    "for mean, stdev, param in zip(means, stds, params):\n",
    "    print(\"%f (%f) with: %r\" % (mean, stdev, param))"
   ]
  },
  {
   "cell_type": "markdown",
   "metadata": {
    "id": "0CLN3GqP4L9l"
   },
   "source": [
    "<span style=\"color:blue\"> <i> 3. Now, do the grid search over different combination of batch sizes (10, 30, 50, 100) and number of epochs (1, 2, 5). Use the activation function that gave you the highest accuracy in Part 2. Make sure to print the mean test score of each case and determine which combination of batch size and number of epochs gives the best accuracy. Here, you have a freedom to create your own DNN (assume an arbitrary number of Dense layers, optimization scheme, etc).  </i></span> <br>\n",
    "\n",
    "Hint: To do the grid search over both batch_size and epochs, you can do:\n",
    "\n",
    "param_grid = dict(batch_size=batch_size, epochs=epochs)"
   ]
  },
  {
   "cell_type": "code",
   "execution_count": null,
   "metadata": {
    "id": "c1BLo6SZ0LCn"
   },
   "outputs": [],
   "source": [
    "from sklearn.model_selection import GridSearchCV\n",
    "from scikeras.wrappers import KerasClassifier"
   ]
  },
  {
   "cell_type": "code",
   "execution_count": null,
   "metadata": {
    "colab": {
     "base_uri": "https://localhost:8080/"
    },
    "collapsed": true,
    "executionInfo": {
     "elapsed": 831565,
     "status": "ok",
     "timestamp": 1701727723127,
     "user": {
      "displayName": "Elizabeth Donoway",
      "userId": "08360168193001379433"
     },
     "user_tz": 480
    },
    "id": "5sjlPWbY4L9l",
    "outputId": "72573712-1c8c-4eac-d31d-d5bc8b3ecba1"
   },
   "outputs": [
    {
     "name": "stdout",
     "output_type": "stream",
     "text": [
      "3000/3000 [==============================] - 16s 3ms/step - loss: 0.3543 - accuracy: 0.8964\n",
      "1000/1000 [==============================] - 2s 2ms/step\n",
      "3000/3000 [==============================] - 9s 3ms/step - loss: 0.3511 - accuracy: 0.8964\n",
      "1000/1000 [==============================] - 3s 2ms/step\n",
      "3000/3000 [==============================] - 11s 4ms/step - loss: 0.3465 - accuracy: 0.8977\n",
      "1000/1000 [==============================] - 3s 2ms/step\n",
      "3000/3000 [==============================] - 9s 3ms/step - loss: 0.3549 - accuracy: 0.8947\n",
      "1000/1000 [==============================] - 2s 2ms/step\n",
      "Epoch 1/2\n",
      "3000/3000 [==============================] - 9s 3ms/step - loss: 0.3408 - accuracy: 0.8981\n",
      "Epoch 2/2\n",
      "3000/3000 [==============================] - 12s 4ms/step - loss: 0.1587 - accuracy: 0.9551\n",
      "1000/1000 [==============================] - 2s 2ms/step\n",
      "Epoch 1/2\n",
      "3000/3000 [==============================] - 10s 3ms/step - loss: 0.3424 - accuracy: 0.8983\n",
      "Epoch 2/2\n",
      "3000/3000 [==============================] - 10s 3ms/step - loss: 0.1580 - accuracy: 0.9549\n",
      "1000/1000 [==============================] - 2s 2ms/step\n",
      "Epoch 1/2\n",
      "3000/3000 [==============================] - 10s 3ms/step - loss: 0.3454 - accuracy: 0.8978\n",
      "Epoch 2/2\n",
      "3000/3000 [==============================] - 12s 4ms/step - loss: 0.1549 - accuracy: 0.9553\n",
      "1000/1000 [==============================] - 2s 2ms/step\n",
      "Epoch 1/2\n",
      "3000/3000 [==============================] - 12s 4ms/step - loss: 0.3356 - accuracy: 0.9002\n",
      "Epoch 2/2\n",
      "3000/3000 [==============================] - 23s 8ms/step - loss: 0.1492 - accuracy: 0.9565\n",
      "1000/1000 [==============================] - 3s 3ms/step\n",
      "Epoch 1/5\n",
      "3000/3000 [==============================] - 12s 4ms/step - loss: 0.3460 - accuracy: 0.8984\n",
      "Epoch 2/5\n",
      "3000/3000 [==============================] - 10s 3ms/step - loss: 0.1633 - accuracy: 0.9532\n",
      "Epoch 3/5\n",
      "3000/3000 [==============================] - 15s 5ms/step - loss: 0.1153 - accuracy: 0.9662\n",
      "Epoch 4/5\n",
      "3000/3000 [==============================] - 10s 3ms/step - loss: 0.0919 - accuracy: 0.9731\n",
      "Epoch 5/5\n",
      "3000/3000 [==============================] - 13s 4ms/step - loss: 0.0734 - accuracy: 0.9782\n",
      "1000/1000 [==============================] - 5s 4ms/step\n",
      "Epoch 1/5\n",
      "3000/3000 [==============================] - 11s 4ms/step - loss: 0.3469 - accuracy: 0.8973\n",
      "Epoch 2/5\n",
      "3000/3000 [==============================] - 9s 3ms/step - loss: 0.1577 - accuracy: 0.9554\n",
      "Epoch 3/5\n",
      "3000/3000 [==============================] - 10s 3ms/step - loss: 0.1152 - accuracy: 0.9670\n",
      "Epoch 4/5\n",
      "3000/3000 [==============================] - 10s 3ms/step - loss: 0.0894 - accuracy: 0.9748\n",
      "Epoch 5/5\n",
      "3000/3000 [==============================] - 8s 3ms/step - loss: 0.0746 - accuracy: 0.9781\n",
      "1000/1000 [==============================] - 2s 2ms/step\n",
      "Epoch 1/5\n",
      "3000/3000 [==============================] - 11s 4ms/step - loss: 0.3423 - accuracy: 0.8989\n",
      "Epoch 2/5\n",
      "3000/3000 [==============================] - 10s 3ms/step - loss: 0.1521 - accuracy: 0.9560\n",
      "Epoch 3/5\n",
      "3000/3000 [==============================] - 10s 3ms/step - loss: 0.1153 - accuracy: 0.9653\n",
      "Epoch 4/5\n",
      "3000/3000 [==============================] - 8s 3ms/step - loss: 0.0880 - accuracy: 0.9742\n",
      "Epoch 5/5\n",
      "3000/3000 [==============================] - 11s 4ms/step - loss: 0.0722 - accuracy: 0.9784\n",
      "1000/1000 [==============================] - 2s 2ms/step\n",
      "Epoch 1/5\n",
      "3000/3000 [==============================] - 17s 6ms/step - loss: 0.3417 - accuracy: 0.8973\n",
      "Epoch 2/5\n",
      "3000/3000 [==============================] - 9s 3ms/step - loss: 0.1555 - accuracy: 0.9543\n",
      "Epoch 3/5\n",
      "3000/3000 [==============================] - 10s 3ms/step - loss: 0.1084 - accuracy: 0.9697\n",
      "Epoch 4/5\n",
      "3000/3000 [==============================] - 10s 3ms/step - loss: 0.0875 - accuracy: 0.9731\n",
      "Epoch 5/5\n",
      "3000/3000 [==============================] - 10s 3ms/step - loss: 0.0740 - accuracy: 0.9788\n",
      "1000/1000 [==============================] - 2s 2ms/step\n",
      "1000/1000 [==============================] - 4s 3ms/step - loss: 0.3865 - accuracy: 0.8838\n",
      "334/334 [==============================] - 1s 2ms/step\n",
      "1000/1000 [==============================] - 4s 3ms/step - loss: 0.3850 - accuracy: 0.8843\n",
      "334/334 [==============================] - 1s 2ms/step\n",
      "1000/1000 [==============================] - 3s 3ms/step - loss: 0.3759 - accuracy: 0.8880\n",
      "334/334 [==============================] - 1s 2ms/step\n",
      "1000/1000 [==============================] - 5s 4ms/step - loss: 0.3777 - accuracy: 0.8860\n",
      "334/334 [==============================] - 1s 2ms/step\n",
      "Epoch 1/2\n",
      "1000/1000 [==============================] - 3s 3ms/step - loss: 0.3816 - accuracy: 0.8881\n",
      "Epoch 2/2\n",
      "1000/1000 [==============================] - 3s 3ms/step - loss: 0.1581 - accuracy: 0.9534\n",
      "334/334 [==============================] - 1s 2ms/step\n",
      "Epoch 1/2\n",
      "1000/1000 [==============================] - 3s 3ms/step - loss: 0.3787 - accuracy: 0.8864\n",
      "Epoch 2/2\n",
      "1000/1000 [==============================] - 3s 3ms/step - loss: 0.1632 - accuracy: 0.9530\n",
      "334/334 [==============================] - 1s 2ms/step\n",
      "Epoch 1/2\n",
      "1000/1000 [==============================] - 4s 4ms/step - loss: 0.3791 - accuracy: 0.8880\n",
      "Epoch 2/2\n",
      "1000/1000 [==============================] - 3s 3ms/step - loss: 0.1534 - accuracy: 0.9556\n",
      "334/334 [==============================] - 1s 1ms/step\n",
      "Epoch 1/2\n",
      "1000/1000 [==============================] - 3s 3ms/step - loss: 0.3793 - accuracy: 0.8872\n",
      "Epoch 2/2\n",
      "1000/1000 [==============================] - 5s 5ms/step - loss: 0.1584 - accuracy: 0.9551\n",
      "334/334 [==============================] - 1s 2ms/step\n",
      "Epoch 1/5\n",
      "1000/1000 [==============================] - 3s 3ms/step - loss: 0.3755 - accuracy: 0.8898\n",
      "Epoch 2/5\n",
      "1000/1000 [==============================] - 3s 3ms/step - loss: 0.1587 - accuracy: 0.9534\n",
      "Epoch 3/5\n",
      "1000/1000 [==============================] - 3s 3ms/step - loss: 0.1087 - accuracy: 0.9672\n",
      "Epoch 4/5\n",
      "1000/1000 [==============================] - 4s 4ms/step - loss: 0.0844 - accuracy: 0.9744\n",
      "Epoch 5/5\n",
      "1000/1000 [==============================] - 3s 3ms/step - loss: 0.0676 - accuracy: 0.9792\n",
      "334/334 [==============================] - 1s 2ms/step\n",
      "Epoch 1/5\n",
      "1000/1000 [==============================] - 5s 5ms/step - loss: 0.3765 - accuracy: 0.8895\n",
      "Epoch 2/5\n",
      "1000/1000 [==============================] - 3s 3ms/step - loss: 0.1619 - accuracy: 0.9530\n",
      "Epoch 3/5\n",
      "1000/1000 [==============================] - 3s 3ms/step - loss: 0.1130 - accuracy: 0.9673\n",
      "Epoch 4/5\n",
      "1000/1000 [==============================] - 3s 3ms/step - loss: 0.0832 - accuracy: 0.9760\n",
      "Epoch 5/5\n",
      "1000/1000 [==============================] - 3s 3ms/step - loss: 0.0678 - accuracy: 0.9793\n",
      "334/334 [==============================] - 1s 2ms/step\n",
      "Epoch 1/5\n",
      "1000/1000 [==============================] - 3s 3ms/step - loss: 0.3876 - accuracy: 0.8858\n",
      "Epoch 2/5\n",
      "1000/1000 [==============================] - 4s 4ms/step - loss: 0.1630 - accuracy: 0.9542\n",
      "Epoch 3/5\n",
      "1000/1000 [==============================] - 6s 6ms/step - loss: 0.1106 - accuracy: 0.9676\n",
      "Epoch 4/5\n",
      "1000/1000 [==============================] - 5s 5ms/step - loss: 0.0828 - accuracy: 0.9752\n",
      "Epoch 5/5\n",
      "1000/1000 [==============================] - 4s 4ms/step - loss: 0.0632 - accuracy: 0.9811\n",
      "334/334 [==============================] - 1s 2ms/step\n",
      "Epoch 1/5\n",
      "1000/1000 [==============================] - 4s 4ms/step - loss: 0.3776 - accuracy: 0.8868\n",
      "Epoch 2/5\n",
      "1000/1000 [==============================] - 3s 3ms/step - loss: 0.1605 - accuracy: 0.9553\n",
      "Epoch 3/5\n",
      "1000/1000 [==============================] - 3s 3ms/step - loss: 0.1119 - accuracy: 0.9663\n",
      "Epoch 4/5\n",
      "1000/1000 [==============================] - 3s 3ms/step - loss: 0.0812 - accuracy: 0.9755\n",
      "Epoch 5/5\n",
      "1000/1000 [==============================] - 4s 4ms/step - loss: 0.0655 - accuracy: 0.9801\n",
      "334/334 [==============================] - 1s 3ms/step\n",
      "600/600 [==============================] - 2s 3ms/step - loss: 0.4188 - accuracy: 0.8753\n",
      "200/200 [==============================] - 0s 2ms/step\n",
      "600/600 [==============================] - 2s 3ms/step - loss: 0.4184 - accuracy: 0.8757\n",
      "200/200 [==============================] - 0s 2ms/step\n",
      "600/600 [==============================] - 2s 3ms/step - loss: 0.4227 - accuracy: 0.8752\n",
      "200/200 [==============================] - 0s 2ms/step\n",
      "600/600 [==============================] - 3s 4ms/step - loss: 0.4247 - accuracy: 0.8727\n",
      "200/200 [==============================] - 0s 2ms/step\n",
      "Epoch 1/2\n",
      "600/600 [==============================] - 2s 3ms/step - loss: 0.4263 - accuracy: 0.8735\n",
      "Epoch 2/2\n",
      "600/600 [==============================] - 2s 3ms/step - loss: 0.1704 - accuracy: 0.9518\n",
      "200/200 [==============================] - 0s 2ms/step\n",
      "Epoch 1/2\n",
      "600/600 [==============================] - 2s 3ms/step - loss: 0.4182 - accuracy: 0.8760\n",
      "Epoch 2/2\n",
      "600/600 [==============================] - 3s 4ms/step - loss: 0.1738 - accuracy: 0.9500\n",
      "200/200 [==============================] - 1s 2ms/step\n",
      "Epoch 1/2\n",
      "600/600 [==============================] - 2s 3ms/step - loss: 0.4070 - accuracy: 0.8799\n",
      "Epoch 2/2\n",
      "600/600 [==============================] - 2s 3ms/step - loss: 0.1698 - accuracy: 0.9518\n",
      "200/200 [==============================] - 0s 2ms/step\n",
      "Epoch 1/2\n",
      "600/600 [==============================] - 2s 3ms/step - loss: 0.4205 - accuracy: 0.8756\n",
      "Epoch 2/2\n",
      "600/600 [==============================] - 2s 3ms/step - loss: 0.1729 - accuracy: 0.9510\n",
      "200/200 [==============================] - 1s 2ms/step\n",
      "Epoch 1/5\n",
      "600/600 [==============================] - 2s 3ms/step - loss: 0.4200 - accuracy: 0.8745\n",
      "Epoch 2/5\n",
      "600/600 [==============================] - 2s 3ms/step - loss: 0.1717 - accuracy: 0.9500\n",
      "Epoch 3/5\n",
      "600/600 [==============================] - 2s 3ms/step - loss: 0.1159 - accuracy: 0.9665\n",
      "Epoch 4/5\n",
      "600/600 [==============================] - 2s 3ms/step - loss: 0.0837 - accuracy: 0.9754\n",
      "Epoch 5/5\n",
      "600/600 [==============================] - 2s 4ms/step - loss: 0.0652 - accuracy: 0.9806\n",
      "200/200 [==============================] - 1s 2ms/step\n",
      "Epoch 1/5\n",
      "600/600 [==============================] - 3s 4ms/step - loss: 0.4275 - accuracy: 0.8708\n",
      "Epoch 2/5\n",
      "600/600 [==============================] - 2s 3ms/step - loss: 0.1796 - accuracy: 0.9476\n",
      "Epoch 3/5\n",
      "600/600 [==============================] - 2s 3ms/step - loss: 0.1219 - accuracy: 0.9653\n",
      "Epoch 4/5\n",
      "600/600 [==============================] - 2s 3ms/step - loss: 0.0907 - accuracy: 0.9735\n",
      "Epoch 5/5\n",
      "600/600 [==============================] - 2s 3ms/step - loss: 0.0714 - accuracy: 0.9791\n",
      "200/200 [==============================] - 0s 2ms/step\n",
      "Epoch 1/5\n",
      "600/600 [==============================] - 3s 4ms/step - loss: 0.4157 - accuracy: 0.8773\n",
      "Epoch 2/5\n",
      "600/600 [==============================] - 3s 5ms/step - loss: 0.1738 - accuracy: 0.9494\n",
      "Epoch 3/5\n",
      "600/600 [==============================] - 2s 3ms/step - loss: 0.1171 - accuracy: 0.9671\n",
      "Epoch 4/5\n",
      "600/600 [==============================] - 3s 4ms/step - loss: 0.0858 - accuracy: 0.9751\n",
      "Epoch 5/5\n",
      "600/600 [==============================] - 3s 5ms/step - loss: 0.0658 - accuracy: 0.9810\n",
      "200/200 [==============================] - 0s 2ms/step\n",
      "Epoch 1/5\n",
      "600/600 [==============================] - 2s 3ms/step - loss: 0.4053 - accuracy: 0.8809\n",
      "Epoch 2/5\n",
      "600/600 [==============================] - 2s 3ms/step - loss: 0.1736 - accuracy: 0.9501\n",
      "Epoch 3/5\n",
      "600/600 [==============================] - 2s 3ms/step - loss: 0.1190 - accuracy: 0.9652\n",
      "Epoch 4/5\n",
      "600/600 [==============================] - 3s 4ms/step - loss: 0.0865 - accuracy: 0.9742\n",
      "Epoch 5/5\n",
      "600/600 [==============================] - 3s 4ms/step - loss: 0.0684 - accuracy: 0.9794\n",
      "200/200 [==============================] - 1s 2ms/step\n",
      "300/300 [==============================] - 2s 5ms/step - loss: 0.4724 - accuracy: 0.8594\n",
      "100/100 [==============================] - 0s 2ms/step\n",
      "300/300 [==============================] - 1s 3ms/step - loss: 0.4666 - accuracy: 0.8647\n",
      "100/100 [==============================] - 0s 2ms/step\n",
      "300/300 [==============================] - 1s 3ms/step - loss: 0.4645 - accuracy: 0.8625\n",
      "100/100 [==============================] - 0s 2ms/step\n",
      "300/300 [==============================] - 1s 3ms/step - loss: 0.4665 - accuracy: 0.8602\n",
      "100/100 [==============================] - 0s 2ms/step\n",
      "Epoch 1/2\n",
      "300/300 [==============================] - 2s 4ms/step - loss: 0.4894 - accuracy: 0.8533\n",
      "Epoch 2/2\n",
      "300/300 [==============================] - 1s 5ms/step - loss: 0.2042 - accuracy: 0.9413\n",
      "100/100 [==============================] - 0s 2ms/step\n",
      "Epoch 1/2\n",
      "300/300 [==============================] - 2s 3ms/step - loss: 0.4851 - accuracy: 0.8563\n",
      "Epoch 2/2\n",
      "300/300 [==============================] - 1s 3ms/step - loss: 0.1993 - accuracy: 0.9430\n",
      "100/100 [==============================] - 0s 2ms/step\n",
      "Epoch 1/2\n",
      "300/300 [==============================] - 1s 3ms/step - loss: 0.4662 - accuracy: 0.8609\n",
      "Epoch 2/2\n",
      "300/300 [==============================] - 1s 3ms/step - loss: 0.1918 - accuracy: 0.9457\n",
      "100/100 [==============================] - 0s 2ms/step\n",
      "Epoch 1/2\n",
      "300/300 [==============================] - 1s 3ms/step - loss: 0.4605 - accuracy: 0.8637\n",
      "Epoch 2/2\n",
      "300/300 [==============================] - 2s 5ms/step - loss: 0.1964 - accuracy: 0.9440\n",
      "100/100 [==============================] - 0s 3ms/step\n",
      "Epoch 1/5\n",
      "300/300 [==============================] - 2s 4ms/step - loss: 0.4869 - accuracy: 0.8530\n",
      "Epoch 2/5\n",
      "300/300 [==============================] - 1s 3ms/step - loss: 0.2056 - accuracy: 0.9410\n",
      "Epoch 3/5\n",
      "300/300 [==============================] - 1s 3ms/step - loss: 0.1389 - accuracy: 0.9613\n",
      "Epoch 4/5\n",
      "300/300 [==============================] - 1s 3ms/step - loss: 0.1026 - accuracy: 0.9701\n",
      "Epoch 5/5\n",
      "300/300 [==============================] - 1s 3ms/step - loss: 0.0763 - accuracy: 0.9777\n",
      "100/100 [==============================] - 0s 2ms/step\n",
      "Epoch 1/5\n",
      "300/300 [==============================] - 1s 3ms/step - loss: 0.4874 - accuracy: 0.8555\n",
      "Epoch 2/5\n",
      "300/300 [==============================] - 1s 3ms/step - loss: 0.2034 - accuracy: 0.9418\n",
      "Epoch 3/5\n",
      "300/300 [==============================] - 1s 3ms/step - loss: 0.1394 - accuracy: 0.9601\n",
      "Epoch 4/5\n",
      "300/300 [==============================] - 1s 3ms/step - loss: 0.1023 - accuracy: 0.9691\n",
      "Epoch 5/5\n",
      "300/300 [==============================] - 2s 5ms/step - loss: 0.0805 - accuracy: 0.9763\n",
      "100/100 [==============================] - 0s 3ms/step\n",
      "Epoch 1/5\n",
      "300/300 [==============================] - 2s 4ms/step - loss: 0.4848 - accuracy: 0.8574\n",
      "Epoch 2/5\n",
      "300/300 [==============================] - 1s 3ms/step - loss: 0.2002 - accuracy: 0.9431\n",
      "Epoch 3/5\n",
      "300/300 [==============================] - 1s 3ms/step - loss: 0.1362 - accuracy: 0.9614\n",
      "Epoch 4/5\n",
      "300/300 [==============================] - 1s 3ms/step - loss: 0.0985 - accuracy: 0.9711\n",
      "Epoch 5/5\n",
      "300/300 [==============================] - 1s 3ms/step - loss: 0.0777 - accuracy: 0.9776\n",
      "100/100 [==============================] - 0s 2ms/step\n",
      "Epoch 1/5\n",
      "300/300 [==============================] - 1s 3ms/step - loss: 0.4724 - accuracy: 0.8575\n",
      "Epoch 2/5\n",
      "300/300 [==============================] - 1s 3ms/step - loss: 0.1993 - accuracy: 0.9440\n",
      "Epoch 3/5\n",
      "300/300 [==============================] - 1s 3ms/step - loss: 0.1366 - accuracy: 0.9612\n",
      "Epoch 4/5\n",
      "300/300 [==============================] - 1s 3ms/step - loss: 0.0997 - accuracy: 0.9701\n",
      "Epoch 5/5\n",
      "300/300 [==============================] - 1s 3ms/step - loss: 0.0753 - accuracy: 0.9779\n",
      "100/100 [==============================] - 0s 3ms/step\n",
      "Epoch 1/5\n",
      "800/800 [==============================] - 4s 4ms/step - loss: 0.3612 - accuracy: 0.8928\n",
      "Epoch 2/5\n",
      "800/800 [==============================] - 3s 3ms/step - loss: 0.1474 - accuracy: 0.9565\n",
      "Epoch 3/5\n",
      "800/800 [==============================] - 3s 3ms/step - loss: 0.1017 - accuracy: 0.9715\n",
      "Epoch 4/5\n",
      "800/800 [==============================] - 3s 3ms/step - loss: 0.0758 - accuracy: 0.9771\n",
      "Epoch 5/5\n",
      "800/800 [==============================] - 3s 3ms/step - loss: 0.0589 - accuracy: 0.9823\n"
     ]
    }
   ],
   "source": [
    "def create_DNN():\n",
    "    model = Sequential()\n",
    "    model.add(Dense(400,input_shape=(img_rows*img_cols,), activation='relu'))\n",
    "    model.add(Dense(100, activation='relu'))\n",
    "    model.add(Dropout(0.5))\n",
    "    model.add(Dense(num_classes, activation='softmax'))\n",
    "    model.compile(loss=tf.keras.losses.categorical_crossentropy,\n",
    "              optimizer=tf.keras.optimizers.Adam(),\n",
    "              metrics=['accuracy'])\n",
    "    return model\n",
    "\n",
    "model_gridsearch = KerasClassifier(model=create_DNN, verbose=1)\n",
    "\n",
    "# list of allowed optional arguments, see `compile_model()`\n",
    "batch_size = [10, 30, 50, 100]\n",
    "epochs = [1, 2, 5]\n",
    "# define parameter dictionary\n",
    "param_grid = dict(batch_size=batch_size, epochs=epochs)\n",
    "\n",
    "# call scikit grid search module\n",
    "grid = GridSearchCV(estimator=model_gridsearch, param_grid=param_grid, n_jobs=1, cv=4)\n",
    "grid_result = grid.fit(X_train,Y_train)"
   ]
  },
  {
   "cell_type": "code",
   "execution_count": null,
   "metadata": {
    "colab": {
     "base_uri": "https://localhost:8080/"
    },
    "executionInfo": {
     "elapsed": 179,
     "status": "ok",
     "timestamp": 1701727742372,
     "user": {
      "displayName": "Elizabeth Donoway",
      "userId": "08360168193001379433"
     },
     "user_tz": 480
    },
    "id": "7ppBXLocyqHf",
    "outputId": "ed4d5d3b-e258-4210-c53c-f7045abe65e9"
   },
   "outputs": [
    {
     "name": "stdout",
     "output_type": "stream",
     "text": [
      "Best: 0.970775 using {'batch_size': 50, 'epochs': 5}\n",
      "0.950700 (0.005350) with: {'batch_size': 10, 'epochs': 1}\n",
      "0.963050 (0.000976) with: {'batch_size': 10, 'epochs': 2}\n",
      "0.970625 (0.001192) with: {'batch_size': 10, 'epochs': 5}\n",
      "0.951800 (0.002303) with: {'batch_size': 30, 'epochs': 1}\n",
      "0.963550 (0.001699) with: {'batch_size': 30, 'epochs': 2}\n",
      "0.970300 (0.002115) with: {'batch_size': 30, 'epochs': 5}\n",
      "0.949100 (0.002622) with: {'batch_size': 50, 'epochs': 1}\n",
      "0.962875 (0.002327) with: {'batch_size': 50, 'epochs': 2}\n",
      "0.970775 (0.001372) with: {'batch_size': 50, 'epochs': 5}\n",
      "0.942975 (0.002935) with: {'batch_size': 100, 'epochs': 1}\n",
      "0.959625 (0.001863) with: {'batch_size': 100, 'epochs': 2}\n",
      "0.970200 (0.001849) with: {'batch_size': 100, 'epochs': 5}\n"
     ]
    }
   ],
   "source": [
    "# summarize results\n",
    "print(\"Best: %f using %s\" % (grid_result.best_score_, grid_result.best_params_))\n",
    "means = grid_result.cv_results_['mean_test_score']\n",
    "stds = grid_result.cv_results_['std_test_score']\n",
    "params = grid_result.cv_results_['params']\n",
    "for mean, stdev, param in zip(means, stds, params):\n",
    "    print(\"%f (%f) with: %r\" % (mean, stdev, param))"
   ]
  },
  {
   "cell_type": "markdown",
   "metadata": {
    "id": "lGnEvydn4L9m"
   },
   "source": [
    "<span style=\"color:blue\"> <i> 4. Do the grid search over the number of neurons in the Dense layer and make a plot of mean test score as a function of num_neurons. Again, you have a freedom to create your own DNN. </i></span> <br>"
   ]
  },
  {
   "cell_type": "code",
   "execution_count": null,
   "metadata": {
    "colab": {
     "base_uri": "https://localhost:8080/"
    },
    "collapsed": true,
    "executionInfo": {
     "elapsed": 78804,
     "status": "ok",
     "timestamp": 1701727920296,
     "user": {
      "displayName": "Elizabeth Donoway",
      "userId": "08360168193001379433"
     },
     "user_tz": 480
    },
    "id": "TAwk1uHa4L9m",
    "outputId": "d623bc4d-27dd-4ab1-80b0-6bdfeca36e97"
   },
   "outputs": [
    {
     "name": "stdout",
     "output_type": "stream",
     "text": [
      "469/469 [==============================] - 2s 4ms/step - loss: 0.5441 - accuracy: 0.8367\n",
      "157/157 [==============================] - 0s 2ms/step\n",
      "469/469 [==============================] - 3s 5ms/step - loss: 0.5516 - accuracy: 0.8359\n",
      "157/157 [==============================] - 0s 2ms/step\n",
      "469/469 [==============================] - 2s 3ms/step - loss: 0.5614 - accuracy: 0.8306\n",
      "157/157 [==============================] - 0s 2ms/step\n",
      "469/469 [==============================] - 2s 4ms/step - loss: 0.5508 - accuracy: 0.8334\n",
      "157/157 [==============================] - 0s 2ms/step\n",
      "469/469 [==============================] - 2s 4ms/step - loss: 0.4928 - accuracy: 0.8517\n",
      "157/157 [==============================] - 0s 3ms/step\n",
      "469/469 [==============================] - 3s 5ms/step - loss: 0.4806 - accuracy: 0.8548\n",
      "157/157 [==============================] - 0s 2ms/step\n",
      "469/469 [==============================] - 2s 4ms/step - loss: 0.4765 - accuracy: 0.8584\n",
      "157/157 [==============================] - 0s 2ms/step\n",
      "469/469 [==============================] - 2s 4ms/step - loss: 0.4869 - accuracy: 0.8550\n",
      "157/157 [==============================] - 0s 2ms/step\n",
      "469/469 [==============================] - 2s 3ms/step - loss: 0.4289 - accuracy: 0.8744\n",
      "157/157 [==============================] - 0s 2ms/step\n",
      "469/469 [==============================] - 2s 3ms/step - loss: 0.4400 - accuracy: 0.8683\n",
      "157/157 [==============================] - 0s 2ms/step\n",
      "469/469 [==============================] - 2s 4ms/step - loss: 0.4300 - accuracy: 0.8715\n",
      "157/157 [==============================] - 0s 2ms/step\n",
      "469/469 [==============================] - 2s 4ms/step - loss: 0.4273 - accuracy: 0.8745\n",
      "157/157 [==============================] - 0s 2ms/step\n",
      "469/469 [==============================] - 3s 6ms/step - loss: 0.4097 - accuracy: 0.8795\n",
      "157/157 [==============================] - 1s 3ms/step\n",
      "469/469 [==============================] - 3s 6ms/step - loss: 0.4034 - accuracy: 0.8793\n",
      "157/157 [==============================] - 0s 2ms/step\n",
      "469/469 [==============================] - 2s 3ms/step - loss: 0.4016 - accuracy: 0.8808\n",
      "157/157 [==============================] - 0s 2ms/step\n",
      "469/469 [==============================] - 2s 3ms/step - loss: 0.4108 - accuracy: 0.8794\n",
      "157/157 [==============================] - 0s 2ms/step\n",
      "469/469 [==============================] - 3s 5ms/step - loss: 0.3944 - accuracy: 0.8844\n",
      "157/157 [==============================] - 0s 3ms/step\n",
      "469/469 [==============================] - 2s 4ms/step - loss: 0.3994 - accuracy: 0.8810\n",
      "157/157 [==============================] - 0s 2ms/step\n",
      "469/469 [==============================] - 2s 4ms/step - loss: 0.4034 - accuracy: 0.8797\n",
      "157/157 [==============================] - 0s 2ms/step\n",
      "469/469 [==============================] - 2s 4ms/step - loss: 0.4095 - accuracy: 0.8808\n",
      "157/157 [==============================] - 0s 2ms/step\n",
      "625/625 [==============================] - 3s 4ms/step - loss: 0.3375 - accuracy: 0.8999\n"
     ]
    }
   ],
   "source": [
    "def create_DNN(n_neurons=400):\n",
    "    model = Sequential()\n",
    "    model.add(Dense(n_neurons, input_shape=(img_rows*img_cols,), activation='relu'))\n",
    "    model.add(Dense(100, activation='relu'))\n",
    "    model.add(Dropout(0.5))\n",
    "    model.add(Dense(num_classes, activation='softmax'))\n",
    "    model.compile(loss=tf.keras.losses.categorical_crossentropy,\n",
    "              optimizer=tf.keras.optimizers.Adam(),\n",
    "              metrics=['accuracy'])\n",
    "    return model\n",
    "\n",
    "batch_size = 64\n",
    "epochs = 1\n",
    "model_gridsearch = KerasClassifier(model=create_DNN,\n",
    "                        epochs=epochs, batch_size=batch_size, verbose=1)\n",
    "\n",
    "# list of allowed optional arguments, see `compile_model()`\n",
    "n_neurons = [100, 200, 400, 600, 800]\n",
    "# define parameter dictionary\n",
    "param_grid = dict(model__n_neurons=n_neurons)\n",
    "# IMPORTANT: Note that the syntax to pass an argument to the create_DNN function requires\n",
    "# model__ to be added before the parameter name.\n",
    "\n",
    "# call scikit grid search module\n",
    "grid = GridSearchCV(estimator=model_gridsearch, param_grid=param_grid, n_jobs=1, cv=4)\n",
    "grid_result = grid.fit(X_train,Y_train)"
   ]
  },
  {
   "cell_type": "code",
   "execution_count": null,
   "metadata": {
    "colab": {
     "base_uri": "https://localhost:8080/"
    },
    "executionInfo": {
     "elapsed": 169,
     "status": "ok",
     "timestamp": 1701727926241,
     "user": {
      "displayName": "Elizabeth Donoway",
      "userId": "08360168193001379433"
     },
     "user_tz": 480
    },
    "id": "5O2IaDgW2o37",
    "outputId": "484f5ff7-cbf9-4df3-ab1c-9fd006aa886c"
   },
   "outputs": [
    {
     "name": "stdout",
     "output_type": "stream",
     "text": [
      "Best: 0.950550 using {'model__n_neurons': 800}\n",
      "0.933575 (0.003879) with: {'model__n_neurons': 100}\n",
      "0.940800 (0.002945) with: {'model__n_neurons': 200}\n",
      "0.945050 (0.003991) with: {'model__n_neurons': 400}\n",
      "0.949100 (0.001642) with: {'model__n_neurons': 600}\n",
      "0.950550 (0.002971) with: {'model__n_neurons': 800}\n"
     ]
    }
   ],
   "source": [
    "# summarize results\n",
    "print(\"Best: %f using %s\" % (grid_result.best_score_, grid_result.best_params_))\n",
    "means = grid_result.cv_results_['mean_test_score']\n",
    "stds = grid_result.cv_results_['std_test_score']\n",
    "params = grid_result.cv_results_['params']\n",
    "for mean, stdev, param in zip(means, stds, params):\n",
    "    print(\"%f (%f) with: %r\" % (mean, stdev, param))"
   ]
  },
  {
   "cell_type": "code",
   "execution_count": null,
   "metadata": {
    "colab": {
     "base_uri": "https://localhost:8080/",
     "height": 449
    },
    "executionInfo": {
     "elapsed": 449,
     "status": "ok",
     "timestamp": 1701728282357,
     "user": {
      "displayName": "Elizabeth Donoway",
      "userId": "08360168193001379433"
     },
     "user_tz": 480
    },
    "id": "mStZO2ge5sj9",
    "outputId": "8d3ec63c-2863-4db2-98d5-700b4b00457e"
   },
   "outputs": [
    {
     "data": {
      "image/png": "[encoded data removed]",
      "text/plain": [
       "<Figure size 640x480 with 1 Axes>"
      ]
     },
     "metadata": {},
     "output_type": "display_data"
    }
   ],
   "source": [
    "plt.errorbar(n_neurons, means, yerr=stds, fmt='-o')\n",
    "plt.xlabel('Number of neurons')\n",
    "plt.ylabel('Mean test score')\n",
    "plt.show()"
   ]
  },
  {
   "cell_type": "markdown",
   "metadata": {
    "id": "H9SJqQma4L9m"
   },
   "source": [
    "## Creating CNNs with Keras\n",
    "\n",
    "We have so far considered each MNIST data sample as a $(28\\times 28,)$-long 1d vector. This approach neglects any spatial structure in the image. On the other hand, we do know that in every one of the hand-written digits there are *local* spatial correlations between the pixels, which we would like to take advantage of to improve the accuracy of our classification model. To this end, we first need to reshape the training and test input data as follows"
   ]
  },
  {
   "cell_type": "code",
   "execution_count": null,
   "metadata": {
    "colab": {
     "base_uri": "https://localhost:8080/"
    },
    "collapsed": true,
    "executionInfo": {
     "elapsed": 186,
     "status": "ok",
     "timestamp": 1701728953018,
     "user": {
      "displayName": "Elizabeth Donoway",
      "userId": "08360168193001379433"
     },
     "user_tz": 480
    },
    "id": "rQOYIBkj4L9m",
    "outputId": "c54e2438-8b24-4c66-e34f-d2617d0b9013"
   },
   "outputs": [
    {
     "name": "stdout",
     "output_type": "stream",
     "text": [
      "X_train shape: (40000, 28, 28, 1)\n",
      "Y_train shape: (40000, 10)\n",
      "\n",
      "40000 train samples\n",
      "10000 test samples\n"
     ]
    }
   ],
   "source": [
    "# reshape data, depending on Keras backend\n",
    "if tf.keras.backend.image_data_format() == 'channels_first':\n",
    "    X_train = X_train.reshape(X_train.shape[0], 1, img_rows, img_cols)\n",
    "    X_test = X_test.reshape(X_test.shape[0], 1, img_rows, img_cols)\n",
    "    input_shape = (1, img_rows, img_cols)\n",
    "else:\n",
    "    X_train = X_train.reshape(X_train.shape[0], img_rows, img_cols, 1)\n",
    "    X_test = X_test.reshape(X_test.shape[0], img_rows, img_cols, 1)\n",
    "    input_shape = (img_rows, img_cols, 1)\n",
    "\n",
    "print('X_train shape:', X_train.shape)\n",
    "print('Y_train shape:', Y_train.shape)\n",
    "print()\n",
    "print(X_train.shape[0], 'train samples')\n",
    "print(X_test.shape[0], 'test samples')"
   ]
  },
  {
   "cell_type": "markdown",
   "metadata": {
    "id": "8nB1Mhjd4L9m"
   },
   "source": [
    "One can ask the question of whether a neural net can learn to recognize such local patterns. This can be achieved by using convolutional layers. Luckily, all we need to do is change the architecture of our DNN.\n",
    "\n",
    "![alt text](https://drive.google.com/uc?id=1ZQFqg-GCRKufS4mMGcluqBquv7yCPKlX)\n",
    "\n",
    "After we instantiate the model, add the first convolutional layer with 10 filters, which is the dimensionality of output space. (https://keras.io/layers/convolutional/) Here, we will be concerned with local spatial filters\n",
    "that take as inputs a small spatial patch of the\n",
    "previous layer at all depths. We consider a three-dimensional kernel of size $5\\times5\\times1$. Check out this visualization of the\n",
    "convolution procedure for a square input of unit depth: https://github.com/vdumoulin/conv_arithmetic/blob/master/README.md\n",
    "The convolution consists of running this filter over all locations\n",
    "in the spatial plane. After computing the filter, the output is passed through\n",
    "a non-linearity, a ReLU."
   ]
  },
  {
   "cell_type": "code",
   "execution_count": null,
   "metadata": {
    "collapsed": true,
    "id": "_M10hFVO4L9n"
   },
   "outputs": [],
   "source": [
    "from tensorflow.keras.models import Sequential # changed from tf.keras.models b/c wasn't working\n",
    "from tensorflow.keras.layers import Dense, Dropout, Flatten # changed from tf.keras.layers b/c wasn't working\n",
    "from tensorflow.keras.layers import Conv2D, MaxPooling2D\n",
    "\n",
    "model = Sequential()\n",
    "model.add(Conv2D(10, kernel_size=(5, 5),\n",
    "                 activation='relu',\n",
    "                 input_shape=input_shape))"
   ]
  },
  {
   "cell_type": "markdown",
   "metadata": {
    "id": "LIA78XZd4L9n"
   },
   "source": [
    "Subsequently, add a 2D pooling layer. (https://keras.io/layers/pooling/) This pooling layer coarse-grain spatial information by performing\n",
    "a subsampling at each depth. Here, we use the the max pool operation. In a max pool, the spatial\n",
    "dimensions are coarse-grained by replacing a small region\n",
    "(say $2\\times2$ neurons) by a single neuron whose output is the\n",
    "maximum value of the output in the region."
   ]
  },
  {
   "cell_type": "code",
   "execution_count": null,
   "metadata": {
    "collapsed": true,
    "id": "Vuput6ou4L9n"
   },
   "outputs": [],
   "source": [
    "model.add(MaxPooling2D(pool_size=(2, 2)))"
   ]
  },
  {
   "cell_type": "markdown",
   "metadata": {
    "id": "xY8KUeUx4L9o"
   },
   "source": [
    "Add another convolutional layers with 20 filters and apply dropout. Then, add another pooling layer and flatten the data. You can do DNNs afterwards and compile the model."
   ]
  },
  {
   "cell_type": "code",
   "execution_count": null,
   "metadata": {
    "collapsed": true,
    "id": "q-LXiCqS4L9o"
   },
   "outputs": [],
   "source": [
    "# add second convolutional layer with 20 filters\n",
    "model.add(Conv2D(20, (5, 5), activation='relu'))\n",
    "# apply dropout with rate 0.5\n",
    "model.add(Dropout(0.5))\n",
    "# add 2D pooling layer\n",
    "model.add(MaxPooling2D(pool_size=(2, 2)))\n",
    "# flatten data\n",
    "model.add(Flatten())\n",
    "# add a dense all-to-all relu layer\n",
    "model.add(Dense(20*4*4, activation='relu'))\n",
    "# apply dropout with rate 0.5\n",
    "model.add(Dropout(0.5))\n",
    "# soft-max layer\n",
    "model.add(Dense(num_classes, activation='softmax'))\n",
    "\n",
    "# compile the model\n",
    "model.compile(loss=keras.losses.categorical_crossentropy,\n",
    "              optimizer='Adam',\n",
    "              metrics=['accuracy'])\n"
   ]
  },
  {
   "cell_type": "markdown",
   "metadata": {
    "id": "5YdAmO4m4L9o"
   },
   "source": [
    "Lastly, train your CNN and evaluate the model."
   ]
  },
  {
   "cell_type": "code",
   "execution_count": null,
   "metadata": {
    "colab": {
     "base_uri": "https://localhost:8080/"
    },
    "executionInfo": {
     "elapsed": 84049,
     "status": "ok",
     "timestamp": 1701729107036,
     "user": {
      "displayName": "Elizabeth Donoway",
      "userId": "08360168193001379433"
     },
     "user_tz": 480
    },
    "id": "u3ZunuhX4L9p",
    "outputId": "3dd5357d-84d8-483d-d193-0894750b4e77"
   },
   "outputs": [
    {
     "name": "stdout",
     "output_type": "stream",
     "text": [
      "Epoch 1/10\n",
      "625/625 [==============================] - 9s 5ms/step - loss: 0.3250 - accuracy: 0.8958 - val_loss: 0.0986 - val_accuracy: 0.9788\n",
      "Epoch 2/10\n",
      "625/625 [==============================] - 5s 8ms/step - loss: 0.1030 - accuracy: 0.9678 - val_loss: 0.0593 - val_accuracy: 0.9842\n",
      "Epoch 3/10\n",
      "625/625 [==============================] - 4s 6ms/step - loss: 0.0777 - accuracy: 0.9761 - val_loss: 0.0506 - val_accuracy: 0.9868\n",
      "Epoch 4/10\n",
      "625/625 [==============================] - 4s 6ms/step - loss: 0.0665 - accuracy: 0.9801 - val_loss: 0.0458 - val_accuracy: 0.9871\n",
      "Epoch 5/10\n",
      "625/625 [==============================] - 4s 7ms/step - loss: 0.0582 - accuracy: 0.9815 - val_loss: 0.0345 - val_accuracy: 0.9896\n",
      "Epoch 6/10\n",
      "625/625 [==============================] - 4s 6ms/step - loss: 0.0525 - accuracy: 0.9843 - val_loss: 0.0379 - val_accuracy: 0.9893\n",
      "Epoch 7/10\n",
      "625/625 [==============================] - 3s 4ms/step - loss: 0.0490 - accuracy: 0.9842 - val_loss: 0.0338 - val_accuracy: 0.9910\n",
      "Epoch 8/10\n",
      "625/625 [==============================] - 3s 5ms/step - loss: 0.0421 - accuracy: 0.9865 - val_loss: 0.0321 - val_accuracy: 0.9906\n",
      "Epoch 9/10\n",
      "625/625 [==============================] - 3s 5ms/step - loss: 0.0433 - accuracy: 0.9859 - val_loss: 0.0331 - val_accuracy: 0.9898\n",
      "Epoch 10/10\n",
      "625/625 [==============================] - 4s 7ms/step - loss: 0.0404 - accuracy: 0.9873 - val_loss: 0.0282 - val_accuracy: 0.9918\n",
      "313/313 [==============================] - 1s 3ms/step - loss: 0.0282 - accuracy: 0.9918\n",
      "\n",
      "Test loss: 0.02816770039498806\n",
      "Test accuracy: 0.9918000102043152\n"
     ]
    }
   ],
   "source": [
    "# training parameters\n",
    "batch_size = 64\n",
    "epochs = 10\n",
    "\n",
    "\n",
    "# train CNN\n",
    "model.fit(X_train, Y_train,\n",
    "          batch_size=batch_size,\n",
    "          epochs=epochs,\n",
    "          verbose=1,\n",
    "          validation_data=(X_test, Y_test))\n",
    "\n",
    "# evaluate model\n",
    "score = model.evaluate(X_test, Y_test, verbose=1)\n",
    "\n",
    "# print performance\n",
    "print()\n",
    "print('Test loss:', score[0])\n",
    "print('Test accuracy:', score[1])"
   ]
  },
  {
   "cell_type": "markdown",
   "metadata": {
    "id": "-jzUZcMH4L9p"
   },
   "source": [
    "<span style=\"color:blue\"> <i> 5. Do the grid search over any 3 different optimization schemes and 2 activation functions. Suppose that we have a 2 convolutional layers with 10 neurons. Let p_dropout = 0.5, epochs = 1, and batch_size = 64. Determine which combination of optimization scheme and activation function gives the best accuracy. </i></span> <br>"
   ]
  },
  {
   "cell_type": "code",
   "execution_count": null,
   "metadata": {
    "colab": {
     "base_uri": "https://localhost:8080/"
    },
    "collapsed": true,
    "executionInfo": {
     "elapsed": 124428,
     "status": "ok",
     "timestamp": 1701729550989,
     "user": {
      "displayName": "Elizabeth Donoway",
      "userId": "08360168193001379433"
     },
     "user_tz": 480
    },
    "id": "L_QvibSn4L9p",
    "outputId": "6f2c3748-6097-4499-adef-6bb5da9ed724"
   },
   "outputs": [
    {
     "name": "stdout",
     "output_type": "stream",
     "text": [
      "469/469 [==============================] - 3s 5ms/step - loss: 0.8447 - accuracy: 0.7249\n",
      "157/157 [==============================] - 0s 2ms/step\n",
      "469/469 [==============================] - 4s 7ms/step - loss: 0.9360 - accuracy: 0.6880\n",
      "157/157 [==============================] - 0s 2ms/step\n",
      "469/469 [==============================] - 3s 5ms/step - loss: 0.9701 - accuracy: 0.6791\n",
      "157/157 [==============================] - 0s 2ms/step\n",
      "469/469 [==============================] - 2s 4ms/step - loss: 0.8751 - accuracy: 0.7136\n",
      "157/157 [==============================] - 0s 2ms/step\n",
      "469/469 [==============================] - 3s 5ms/step - loss: 0.4220 - accuracy: 0.8692\n",
      "157/157 [==============================] - 0s 3ms/step\n",
      "469/469 [==============================] - 2s 4ms/step - loss: 0.4323 - accuracy: 0.8672\n",
      "157/157 [==============================] - 0s 2ms/step\n",
      "469/469 [==============================] - 3s 5ms/step - loss: 0.4186 - accuracy: 0.8706\n",
      "157/157 [==============================] - 0s 2ms/step\n",
      "469/469 [==============================] - 4s 5ms/step - loss: 0.4159 - accuracy: 0.8720\n",
      "157/157 [==============================] - 1s 6ms/step\n",
      "469/469 [==============================] - 5s 7ms/step - loss: 0.4390 - accuracy: 0.8619\n",
      "157/157 [==============================] - 0s 2ms/step\n",
      "469/469 [==============================] - 3s 5ms/step - loss: 0.4111 - accuracy: 0.8736\n",
      "157/157 [==============================] - 1s 3ms/step\n",
      "469/469 [==============================] - 3s 5ms/step - loss: 0.4335 - accuracy: 0.8650\n",
      "157/157 [==============================] - 0s 2ms/step\n",
      "469/469 [==============================] - 4s 6ms/step - loss: 0.3959 - accuracy: 0.8749\n",
      "157/157 [==============================] - 0s 2ms/step\n",
      "469/469 [==============================] - 3s 5ms/step - loss: 0.6974 - accuracy: 0.7792\n",
      "157/157 [==============================] - 0s 2ms/step\n",
      "469/469 [==============================] - 3s 5ms/step - loss: 0.7177 - accuracy: 0.7737\n",
      "157/157 [==============================] - 0s 2ms/step\n",
      "469/469 [==============================] - 2s 4ms/step - loss: 0.7512 - accuracy: 0.7616\n",
      "157/157 [==============================] - 0s 2ms/step\n",
      "469/469 [==============================] - 3s 5ms/step - loss: 0.7213 - accuracy: 0.7765\n",
      "157/157 [==============================] - 0s 2ms/step\n",
      "469/469 [==============================] - 3s 4ms/step - loss: 0.4904 - accuracy: 0.8497\n",
      "157/157 [==============================] - 0s 2ms/step\n",
      "469/469 [==============================] - 3s 5ms/step - loss: 0.4709 - accuracy: 0.8598\n",
      "157/157 [==============================] - 0s 2ms/step\n",
      "469/469 [==============================] - 3s 5ms/step - loss: 0.4683 - accuracy: 0.8586\n",
      "157/157 [==============================] - 0s 2ms/step\n",
      "469/469 [==============================] - 4s 6ms/step - loss: 0.4645 - accuracy: 0.8594\n",
      "157/157 [==============================] - 0s 2ms/step\n",
      "469/469 [==============================] - 5s 5ms/step - loss: 0.4700 - accuracy: 0.8613\n",
      "157/157 [==============================] - 0s 2ms/step\n",
      "469/469 [==============================] - 3s 5ms/step - loss: 0.4596 - accuracy: 0.8588\n",
      "157/157 [==============================] - 1s 6ms/step\n",
      "469/469 [==============================] - 5s 6ms/step - loss: 0.4737 - accuracy: 0.8548\n",
      "157/157 [==============================] - 1s 5ms/step\n",
      "469/469 [==============================] - 7s 13ms/step - loss: 0.4703 - accuracy: 0.8597\n",
      "157/157 [==============================] - 1s 5ms/step\n",
      "625/625 [==============================] - 3s 5ms/step - loss: 0.3591 - accuracy: 0.8890\n"
     ]
    }
   ],
   "source": [
    "def create_CNN(optimizer=tf.keras.optimizers.Adam(), activation='relu'):\n",
    "    model = Sequential()\n",
    "    model.add(Conv2D(10, kernel_size=(5, 5),\n",
    "                 activation=activation,\n",
    "                 input_shape=input_shape))\n",
    "    model.add(Dropout(0.5))\n",
    "    model.add(Conv2D(10, (5, 5), activation=activation))\n",
    "    model.add(Dropout(0.5))\n",
    "    model.add(Flatten())\n",
    "    model.add(Dense(num_classes, activation='softmax'))\n",
    "    model.compile(loss=tf.keras.losses.categorical_crossentropy,\n",
    "              optimizer=optimizer,\n",
    "              metrics=['accuracy'])\n",
    "    return model\n",
    "\n",
    "batch_size = 64\n",
    "epochs = 1\n",
    "model_gridsearch = KerasClassifier(model=create_CNN,\n",
    "                        epochs=epochs, batch_size=batch_size, verbose=1)\n",
    "\n",
    "# list of allowed optional arguments for the activation, see `compile_model()`\n",
    "optimizer = ['SGD', 'Adam', 'Nadam']\n",
    "activation = ['relu', 'tanh']\n",
    "# define parameter dictionary\n",
    "param_grid = dict(model__optimizer=optimizer, model__activation=activation)\n",
    "# IMPORTANT: Note that the syntax to pass an argument to the create_DNN function requires\n",
    "# model__ to be added before the parameter name.\n",
    "\n",
    "# call scikit grid search module\n",
    "grid = GridSearchCV(estimator=model_gridsearch, param_grid=param_grid, n_jobs=1, cv=4)\n",
    "grid_result = grid.fit(X_train,Y_train)"
   ]
  },
  {
   "cell_type": "code",
   "execution_count": null,
   "metadata": {
    "colab": {
     "base_uri": "https://localhost:8080/"
    },
    "executionInfo": {
     "elapsed": 176,
     "status": "ok",
     "timestamp": 1701729577134,
     "user": {
      "displayName": "Elizabeth Donoway",
      "userId": "08360168193001379433"
     },
     "user_tz": 480
    },
    "id": "Oyoh1kGc9kq2",
    "outputId": "c350b97f-38ac-4b2f-db42-19e3837670e1"
   },
   "outputs": [
    {
     "name": "stdout",
     "output_type": "stream",
     "text": [
      "Best: 0.960250 using {'model__activation': 'relu', 'model__optimizer': 'Adam'}\n",
      "0.892600 (0.005458) with: {'model__activation': 'relu', 'model__optimizer': 'SGD'}\n",
      "0.960250 (0.002324) with: {'model__activation': 'relu', 'model__optimizer': 'Adam'}\n",
      "0.956975 (0.001424) with: {'model__activation': 'relu', 'model__optimizer': 'Nadam'}\n",
      "0.894500 (0.002754) with: {'model__activation': 'tanh', 'model__optimizer': 'SGD'}\n",
      "0.915300 (0.001751) with: {'model__activation': 'tanh', 'model__optimizer': 'Adam'}\n",
      "0.917500 (0.005836) with: {'model__activation': 'tanh', 'model__optimizer': 'Nadam'}\n"
     ]
    }
   ],
   "source": [
    "# summarize results\n",
    "print(\"Best: %f using %s\" % (grid_result.best_score_, grid_result.best_params_))\n",
    "means = grid_result.cv_results_['mean_test_score']\n",
    "stds = grid_result.cv_results_['std_test_score']\n",
    "params = grid_result.cv_results_['params']\n",
    "for mean, stdev, param in zip(means, stds, params):\n",
    "    print(\"%f (%f) with: %r\" % (mean, stdev, param))"
   ]
  },
  {
   "cell_type": "markdown",
   "metadata": {
    "id": "iy4hu84l4L9p"
   },
   "source": [
    "<span style=\"color:blue\"> <i> 6. Create an arbitrary DNN (you are free to choose any activation function, optimization scheme, etc) and evaluate its performance. Then, add two convolutional layers and pooling layers and evaluate its performance again. How do they compare? </i></span> <br>"
   ]
  },
  {
   "cell_type": "code",
   "execution_count": null,
   "metadata": {
    "colab": {
     "base_uri": "https://localhost:8080/"
    },
    "executionInfo": {
     "elapsed": 4218,
     "status": "ok",
     "timestamp": 1701730065458,
     "user": {
      "displayName": "Elizabeth Donoway",
      "userId": "08360168193001379433"
     },
     "user_tz": 480
    },
    "id": "vc3sdhvs_84l",
    "outputId": "40594740-232d-40af-8cec-97427f89b156"
   },
   "outputs": [
    {
     "name": "stdout",
     "output_type": "stream",
     "text": [
      "625/625 [==============================] - 3s 4ms/step - loss: 0.3694 - accuracy: 0.8911 - val_loss: 0.1666 - val_accuracy: 0.9521\n",
      "313/313 [==============================] - 1s 3ms/step - loss: 0.1666 - accuracy: 0.9521\n",
      "\n",
      "Test loss (DNN): 0.16663594543933868\n",
      "Test accuracy (DNN): 0.9520999789237976\n"
     ]
    }
   ],
   "source": [
    "# define CNN\n",
    "model = Sequential()\n",
    "model.add(Flatten())\n",
    "model.add(Dense(400, activation='relu'))\n",
    "model.add(Dropout(0.5))\n",
    "model.add(Dense(num_classes, activation='softmax'))\n",
    "model.compile(loss=tf.keras.losses.categorical_crossentropy,\n",
    "          optimizer=tf.keras.optimizers.Adam(),\n",
    "          metrics=['accuracy'])\n",
    "\n",
    "# training parameters\n",
    "batch_size = 64\n",
    "epochs = 1\n",
    "\n",
    "# train CNN\n",
    "model.fit(X_train, Y_train,\n",
    "          batch_size=batch_size,\n",
    "          epochs=epochs,\n",
    "          verbose=1,\n",
    "          validation_data=(X_test, Y_test))\n",
    "\n",
    "# evaluate model\n",
    "score = model.evaluate(X_test, Y_test, verbose=1)\n",
    "\n",
    "# print performance\n",
    "print()\n",
    "print('Test loss (DNN):', score[0])\n",
    "print('Test accuracy (DNN):', score[1])"
   ]
  },
  {
   "cell_type": "code",
   "execution_count": null,
   "metadata": {
    "colab": {
     "base_uri": "https://localhost:8080/"
    },
    "executionInfo": {
     "elapsed": 5818,
     "status": "ok",
     "timestamp": 1701730137714,
     "user": {
      "displayName": "Elizabeth Donoway",
      "userId": "08360168193001379433"
     },
     "user_tz": 480
    },
    "id": "UoGSijN8AOSo",
    "outputId": "1ae143c8-0f66-498d-8bd1-9e4d2c51eca7"
   },
   "outputs": [
    {
     "name": "stdout",
     "output_type": "stream",
     "text": [
      "625/625 [==============================] - 4s 6ms/step - loss: 0.4239 - accuracy: 0.8635 - val_loss: 0.2832 - val_accuracy: 0.9722\n",
      "313/313 [==============================] - 1s 4ms/step - loss: 0.2832 - accuracy: 0.9722\n",
      "\n",
      "Test loss (CNN+DNN): 0.2831777334213257\n",
      "Test accuracy (CNN+DNN): 0.9721999764442444\n"
     ]
    }
   ],
   "source": [
    "# define CNN\n",
    "model = Sequential()\n",
    "model.add(Conv2D(10, kernel_size=(5, 5),\n",
    "             activation='relu',\n",
    "             input_shape=input_shape))\n",
    "model.add(Dropout(0.5))\n",
    "model.add(MaxPooling2D(pool_size=(2, 2)))\n",
    "model.add(Conv2D(10, (5, 5), activation='relu'))\n",
    "model.add(Dropout(0.5))\n",
    "model.add(MaxPooling2D(pool_size=(2, 2)))\n",
    "model.add(Flatten())\n",
    "model.add(Dense(400, activation='relu'))\n",
    "model.add(Dropout(0.5))\n",
    "model.add(Dense(num_classes, activation='softmax'))\n",
    "model.compile(loss=tf.keras.losses.categorical_crossentropy,\n",
    "          optimizer=tf.keras.optimizers.Adam(),\n",
    "          metrics=['accuracy'])\n",
    "\n",
    "# training parameters\n",
    "batch_size = 64\n",
    "epochs = 1\n",
    "\n",
    "# train CNN\n",
    "model.fit(X_train, Y_train,\n",
    "          batch_size=batch_size,\n",
    "          epochs=epochs,\n",
    "          verbose=1,\n",
    "          validation_data=(X_test, Y_test))\n",
    "\n",
    "# evaluate model\n",
    "score = model.evaluate(X_test, Y_test, verbose=1)\n",
    "\n",
    "# print performance\n",
    "print()\n",
    "print('Test loss (CNN+DNN):', score[0])\n",
    "print('Test accuracy (CNN+DNN):', score[1])"
   ]
  },
  {
   "cell_type": "markdown",
   "metadata": {
    "id": "wjsvCeihBaQU"
   },
   "source": [
    "The testing accuracy is higher for the DNN where we have added two convolutional and two pooling layers (even though the loss is slightly higher for that model, which demonstrates that there is not always a one-to-one correspondence between loss and accuracy in classification problems)."
   ]
  },
  {
   "cell_type": "markdown",
   "metadata": {
    "id": "DIWkTOzw4L-Q"
   },
   "source": [
    "***"
   ]
  }
 ],
 "metadata": {
  "colab": {
   "provenance": []
  },
  "kernelspec": {
   "display_name": "Python 3 (ipykernel)",
   "language": "python",
   "name": "python3"
  },
  "language_info": {
   "codemirror_mode": {
    "name": "ipython",
    "version": 3
   },
   "file_extension": ".py",
   "mimetype": "text/x-python",
   "name": "python",
   "nbconvert_exporter": "python",
   "pygments_lexer": "ipython3",
   "version": "3.8.13"
  }
 },
 "nbformat": 4,
 "nbformat_minor": 1
}
